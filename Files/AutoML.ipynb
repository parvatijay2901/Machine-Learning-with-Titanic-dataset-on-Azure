{
 "cells": [
  {
   "cell_type": "markdown",
   "metadata": {
    "id": "X9znJBoHrZvI"
   },
   "source": [
    "# Automated ML"
   ]
  },
  {
   "cell_type": "markdown",
   "metadata": {
    "id": "PVPmh-VSrZvK"
   },
   "source": [
    "## Create an experiment in workspace"
   ]
  },
  {
   "cell_type": "code",
   "execution_count": 1,
   "metadata": {
    "gather": {
     "logged": 1598423890461
    },
    "id": "o18vx6GlrZvL",
    "jupyter": {
     "outputs_hidden": false,
     "source_hidden": false
    },
    "nteract": {
     "transient": {
      "deleting": false
     }
    },
    "outputId": "14b822e8-1048-4cea-a138-88e3d5c41a59"
   },
   "outputs": [
    {
     "name": "stdout",
     "output_type": "stream",
     "text": [
      "Workspace name: quick-starts-ws-135681\n",
      "Azure region: southcentralus\n",
      "Subscription id: 81cefad3-d2c9-4f77-a466-99a7f541c7bb\n",
      "Resource group: aml-quickstarts-135681\n"
     ]
    }
   ],
   "source": [
    "from azureml.core import Workspace, Experiment\n",
    "\n",
    "#Define the workspace\n",
    "ws = Workspace.from_config()\n",
    "\n",
    "#Create an experiment\n",
    "exp = Experiment(workspace=ws, name=\"AutoML\")\n",
    "print('Workspace name: ' + ws.name, \n",
    "      'Azure region: ' + ws.location, \n",
    "      'Subscription id: ' + ws.subscription_id, \n",
    "      'Resource group: ' + ws.resource_group, sep = '\\n')\n",
    "run = exp.start_logging()"
   ]
  },
  {
   "cell_type": "markdown",
   "metadata": {
    "id": "Jh0DIMiIrZvL"
   },
   "source": [
    "## Create a compute cluster"
   ]
  },
  {
   "cell_type": "code",
   "execution_count": 2,
   "metadata": {
    "id": "AMoyrPvPrZvM",
    "outputId": "bd3a347f-9be5-4189-98a7-45c4f5d36d74"
   },
   "outputs": [
    {
     "name": "stdout",
     "output_type": "stream",
     "text": [
      "Found an existing cluster.\n",
      "\n",
      "Cluster details:  {'currentNodeCount': 4, 'targetNodeCount': 0, 'nodeStateCounts': {'preparingNodeCount': 0, 'runningNodeCount': 0, 'idleNodeCount': 4, 'unusableNodeCount': 0, 'leavingNodeCount': 0, 'preemptedNodeCount': 0}, 'allocationState': 'Resizing', 'allocationStateTransitionTime': '2021-01-22T09:18:04.039000+00:00', 'errors': None, 'creationTime': '2021-01-22T08:47:59.411726+00:00', 'modifiedTime': '2021-01-22T08:48:14.900351+00:00', 'provisioningState': 'Succeeded', 'provisioningStateTransitionTime': None, 'scaleSettings': {'minNodeCount': 0, 'maxNodeCount': 4, 'nodeIdleTimeBeforeScaleDown': 'PT120S'}, 'vmPriority': 'Dedicated', 'vmSize': 'STANDARD_D2_V2'}\n"
     ]
    }
   ],
   "source": [
    "from azureml.core.compute import ComputeTarget, AmlCompute\n",
    "from azureml.core.compute_target import ComputeTargetException\n",
    "\n",
    "#Create a new cluster to run the experiment using vm_size of STANDARD_D2_V2 and max_nodes of 4. \n",
    "cpu_cluster_name = \"cpucluster\"\n",
    "try:\n",
    "    cpu_cluster = ComputeTarget(workspace=ws, name=cpu_cluster_name)\n",
    "    print(\"Found an existing cluster.\\n\")\n",
    "except ComputeTargetException:\n",
    "    print(\"Creating a new cluster.\\n\")\n",
    "    compute_config = AmlCompute.provisioning_configuration(vm_size='STANDARD_D2_V2', max_nodes=4)\n",
    "    cpu_cluster = ComputeTarget.create(ws, cpu_cluster_name, compute_config)\n",
    "cpu_cluster.wait_for_completion()\n",
    "\n",
    "#If the cluster exist already for the current cluster, print it's detailed status using get_status(). If not, create and print.\n",
    "print(\"Cluster details: \", cpu_cluster.get_status().serialize())"
   ]
  },
  {
   "cell_type": "markdown",
   "metadata": {
    "id": "hASHmzGfszzC"
   },
   "source": [
    "## Dataset overview"
   ]
  },
  {
   "cell_type": "markdown",
   "metadata": {
    "id": "NUY8Ghgjackm"
   },
   "source": [
    "This project demonstrates the usage of different Machine Learning Algorithms on the Kaggle's Titanic dataset. We are performing classification in this case. The titanic dataset consists of features related to a passenger and the response is if a passenger survived the titanic disaster or not (Survived-1/0)."
   ]
  },
  {
   "cell_type": "code",
   "execution_count": 3,
   "metadata": {
    "gather": {
     "logged": 1598429217746
    },
    "id": "oaUNR5EHrZvM",
    "jupyter": {
     "outputs_hidden": false,
     "source_hidden": false
    },
    "nteract": {
     "transient": {
      "deleting": false
     }
    }
   },
   "outputs": [
    {
     "data": {
      "text/html": [
       "<div>\n",
       "<style scoped>\n",
       "    .dataframe tbody tr th:only-of-type {\n",
       "        vertical-align: middle;\n",
       "    }\n",
       "\n",
       "    .dataframe tbody tr th {\n",
       "        vertical-align: top;\n",
       "    }\n",
       "\n",
       "    .dataframe thead th {\n",
       "        text-align: right;\n",
       "    }\n",
       "</style>\n",
       "<table border=\"1\" class=\"dataframe\">\n",
       "  <thead>\n",
       "    <tr style=\"text-align: right;\">\n",
       "      <th></th>\n",
       "      <th>PassengerId</th>\n",
       "      <th>Survived</th>\n",
       "      <th>Pclass</th>\n",
       "      <th>Name</th>\n",
       "      <th>Sex</th>\n",
       "      <th>Age</th>\n",
       "      <th>SibSp</th>\n",
       "      <th>Parch</th>\n",
       "      <th>Ticket</th>\n",
       "      <th>Fare</th>\n",
       "      <th>Cabin</th>\n",
       "      <th>Embarked</th>\n",
       "    </tr>\n",
       "  </thead>\n",
       "  <tbody>\n",
       "    <tr>\n",
       "      <th>0</th>\n",
       "      <td>1</td>\n",
       "      <td>0</td>\n",
       "      <td>3</td>\n",
       "      <td>Braund, Mr. Owen Harris</td>\n",
       "      <td>male</td>\n",
       "      <td>22.0</td>\n",
       "      <td>1</td>\n",
       "      <td>0</td>\n",
       "      <td>A/5 21171</td>\n",
       "      <td>7.2500</td>\n",
       "      <td>NaN</td>\n",
       "      <td>S</td>\n",
       "    </tr>\n",
       "    <tr>\n",
       "      <th>1</th>\n",
       "      <td>2</td>\n",
       "      <td>1</td>\n",
       "      <td>1</td>\n",
       "      <td>Cumings, Mrs. John Bradley (Florence Briggs Th...</td>\n",
       "      <td>female</td>\n",
       "      <td>38.0</td>\n",
       "      <td>1</td>\n",
       "      <td>0</td>\n",
       "      <td>PC 17599</td>\n",
       "      <td>71.2833</td>\n",
       "      <td>C85</td>\n",
       "      <td>C</td>\n",
       "    </tr>\n",
       "    <tr>\n",
       "      <th>2</th>\n",
       "      <td>3</td>\n",
       "      <td>1</td>\n",
       "      <td>3</td>\n",
       "      <td>Heikkinen, Miss. Laina</td>\n",
       "      <td>female</td>\n",
       "      <td>26.0</td>\n",
       "      <td>0</td>\n",
       "      <td>0</td>\n",
       "      <td>STON/O2. 3101282</td>\n",
       "      <td>7.9250</td>\n",
       "      <td>NaN</td>\n",
       "      <td>S</td>\n",
       "    </tr>\n",
       "    <tr>\n",
       "      <th>3</th>\n",
       "      <td>4</td>\n",
       "      <td>1</td>\n",
       "      <td>1</td>\n",
       "      <td>Futrelle, Mrs. Jacques Heath (Lily May Peel)</td>\n",
       "      <td>female</td>\n",
       "      <td>35.0</td>\n",
       "      <td>1</td>\n",
       "      <td>0</td>\n",
       "      <td>113803</td>\n",
       "      <td>53.1000</td>\n",
       "      <td>C123</td>\n",
       "      <td>S</td>\n",
       "    </tr>\n",
       "    <tr>\n",
       "      <th>4</th>\n",
       "      <td>5</td>\n",
       "      <td>0</td>\n",
       "      <td>3</td>\n",
       "      <td>Allen, Mr. William Henry</td>\n",
       "      <td>male</td>\n",
       "      <td>35.0</td>\n",
       "      <td>0</td>\n",
       "      <td>0</td>\n",
       "      <td>373450</td>\n",
       "      <td>8.0500</td>\n",
       "      <td>NaN</td>\n",
       "      <td>S</td>\n",
       "    </tr>\n",
       "  </tbody>\n",
       "</table>\n",
       "</div>"
      ],
      "text/plain": [
       "   PassengerId  Survived  Pclass  \\\n",
       "0            1         0       3   \n",
       "1            2         1       1   \n",
       "2            3         1       3   \n",
       "3            4         1       1   \n",
       "4            5         0       3   \n",
       "\n",
       "                                                Name     Sex   Age  SibSp  \\\n",
       "0                            Braund, Mr. Owen Harris    male  22.0      1   \n",
       "1  Cumings, Mrs. John Bradley (Florence Briggs Th...  female  38.0      1   \n",
       "2                             Heikkinen, Miss. Laina  female  26.0      0   \n",
       "3       Futrelle, Mrs. Jacques Heath (Lily May Peel)  female  35.0      1   \n",
       "4                           Allen, Mr. William Henry    male  35.0      0   \n",
       "\n",
       "   Parch            Ticket     Fare Cabin Embarked  \n",
       "0      0         A/5 21171   7.2500   NaN        S  \n",
       "1      0          PC 17599  71.2833   C85        C  \n",
       "2      0  STON/O2. 3101282   7.9250   NaN        S  \n",
       "3      0            113803  53.1000  C123        S  \n",
       "4      0            373450   8.0500   NaN        S  "
      ]
     },
     "execution_count": 3,
     "metadata": {},
     "output_type": "execute_result"
    }
   ],
   "source": [
    "import pandas as pd\n",
    "\n",
    "#Loading the titanic dataset\n",
    "df = pd.read_csv('https://raw.githubusercontent.com/parvatijay2901/Machine-Learning-with-the-Titanic-dataset-on-Azure/main/Training_data.csv')\n",
    "\n",
    "df.head()"
   ]
  },
  {
   "cell_type": "markdown",
   "metadata": {
    "id": "3NBvTqI4bdVO"
   },
   "source": [
    "Analyse the data, transform and split the dataset to train and test sets. "
   ]
  },
  {
   "cell_type": "code",
   "execution_count": 4,
   "metadata": {
    "id": "E20CjFoSrZvN",
    "outputId": "80ce916f-b909-4298-b1c9-2752f2dea28e"
   },
   "outputs": [
    {
     "name": "stdout",
     "output_type": "stream",
     "text": [
      "Uploading an estimated of 2 files\n",
      "Uploading data/test.csv\n",
      "Uploaded data/test.csv, 1 files out of an estimated total of 2\n",
      "Uploading data/train.csv\n",
      "Uploaded data/train.csv, 2 files out of an estimated total of 2\n",
      "Uploaded 2 files\n",
      "Successfully converted the dataset to TabularDataset format.\n"
     ]
    }
   ],
   "source": [
    "from train import clean_data\n",
    "from azureml.core import Dataset\n",
    "from sklearn.model_selection import train_test_split\n",
    "from azureml.data.dataset_factory import TabularDatasetFactory\n",
    "\n",
    "#Use the clean_data function to clean your dataset.\n",
    "x, y = clean_data(df)\n",
    "x.head()\n",
    "\n",
    "#Split the dataset into train and test dataset. Combine x_train and y_train. \n",
    "x_train, x_test, y_train, y_test = train_test_split(x,y,test_size=0.2)\n",
    "df_train = pd.concat([x_train,y_train], axis=1)\n",
    "df_test = pd.concat([x_test,y_test], axis=1)\n",
    "\n",
    "#Convert x_train and y_train (Which are in pandas DataFrame format) to TabularDataset format.\n",
    "try:\n",
    "    os.makedirs('./data', exist_ok=True)\n",
    "except OSError as error:\n",
    "    print('New directory cannot be created')\n",
    "    \n",
    "path_train = 'data/train.csv'\n",
    "path_test = 'data/test.csv'\n",
    "df_train.to_csv(path_train)\n",
    "df_test.to_csv(path_test)\n",
    "\n",
    "datastore = ws.get_default_datastore()\n",
    "datastore.upload(src_dir='data', target_path='data')\n",
    "\n",
    "train_data = TabularDatasetFactory.from_delimited_files(path=[(datastore, ('data/train.csv'))])\n",
    "test_data = TabularDatasetFactory.from_delimited_files(path=[(datastore, ('data/test.csv'))])\n",
    "print(\"Successfully converted the dataset to TabularDataset format.\")"
   ]
  },
  {
   "cell_type": "markdown",
   "metadata": {
    "id": "DXc3Kdf3rZvM"
   },
   "source": [
    "## AutoML Configuration"
   ]
  },
  {
   "cell_type": "markdown",
   "metadata": {
    "id": "J3UJTY5bcOgO"
   },
   "source": [
    "AutoML rapidly iterates over many combinations of algorithms and hyperparameters, and find out the best classification model based on the primary metric - Accuracy. In our case the experiment gets timed out after 30mins. I have also enabled onnx compatible models.  \n"
   ]
  },
  {
   "cell_type": "code",
   "execution_count": 5,
   "metadata": {
    "id": "vCVUPwjurZvN"
   },
   "outputs": [],
   "source": [
    "from azureml.train.automl import AutoMLConfig\n",
    "\n",
    "#Set parameters for AutoMLConfig\n",
    "automl_config = AutoMLConfig(\n",
    "    experiment_timeout_minutes=30,\n",
    "    task=\"classification\",\n",
    "    primary_metric=\"accuracy\",\n",
    "    training_data=train_data,\n",
    "    label_column_name=\"Survived\",\n",
    "    n_cross_validations=5,\n",
    "    enable_onnx_compatible_models=True,\n",
    "    compute_target=cpu_cluster)"
   ]
  },
  {
   "cell_type": "markdown",
   "metadata": {
    "id": "uIMVoBwOrZvN"
   },
   "source": [
    "## Run Details"
   ]
  },
  {
   "cell_type": "markdown",
   "metadata": {
    "id": "L2KlIpqCeuS7"
   },
   "source": [
    "Automated machine learning supports ensemble models. Ensemble learning improves machine learning results and predictive performance by combining multiple models as opposed to using single models (Example, Voting ensemble, stack ensemble). Here we are performing AutoML run on a remote compute cluster. "
   ]
  },
  {
   "cell_type": "code",
   "execution_count": 6,
   "metadata": {
    "id": "0sJZJ9LXrZvO",
    "outputId": "4c71e49b-bf53-4566-bc61-6ac5ab2fc088"
   },
   "outputs": [
    {
     "name": "stdout",
     "output_type": "stream",
     "text": [
      "Running on remote.\n",
      "No run_configuration provided, running on cpucluster with default configuration\n",
      "Running on remote compute: cpucluster\n",
      "Parent Run ID: AutoML_025f2b39-b2d8-4bca-bfe4-eaabcae87cef\n",
      "\n",
      "Current status: FeaturesGeneration. Generating features for the dataset.\n",
      "Current status: ModelSelection. Beginning model selection.\n",
      "\n",
      "****************************************************************************************************\n",
      "DATA GUARDRAILS: \n",
      "\n",
      "TYPE:         Class balancing detection\n",
      "STATUS:       PASSED\n",
      "DESCRIPTION:  Your inputs were analyzed, and all classes are balanced in your training data.\n",
      "              Learn more about imbalanced data: https://aka.ms/AutomatedMLImbalancedData\n",
      "\n",
      "****************************************************************************************************\n",
      "\n",
      "TYPE:         Missing feature values imputation\n",
      "STATUS:       PASSED\n",
      "DESCRIPTION:  No feature missing values were detected in the training data.\n",
      "              Learn more about missing value imputation: https://aka.ms/AutomatedMLFeaturization\n",
      "\n",
      "****************************************************************************************************\n",
      "\n",
      "TYPE:         High cardinality feature detection\n",
      "STATUS:       PASSED\n",
      "DESCRIPTION:  Your inputs were analyzed, and no high cardinality features were detected.\n",
      "              Learn more about high cardinality feature handling: https://aka.ms/AutomatedMLFeaturization\n",
      "\n",
      "****************************************************************************************************\n",
      "\n",
      "****************************************************************************************************\n",
      "ITERATION: The iteration being evaluated.\n",
      "PIPELINE: A summary description of the pipeline being evaluated.\n",
      "DURATION: Time taken for the current iteration.\n",
      "METRIC: The result of computing score on the fitted pipeline.\n",
      "BEST: The best observed score thus far.\n",
      "****************************************************************************************************\n",
      "\n",
      " ITERATION   PIPELINE                                       DURATION      METRIC      BEST\n",
      "         0   MaxAbsScaler LightGBM                          0:00:46       0.7724    0.7724\n",
      "         1   MaxAbsScaler XGBoostClassifier                 0:00:39       0.7894    0.7894\n",
      "         2   MinMaxScaler RandomForest                      0:00:52       0.8006    0.8006\n",
      "         3   MinMaxScaler RandomForest                      0:00:52       0.7682    0.8006\n",
      "         4   MinMaxScaler RandomForest                      0:00:46       0.7752    0.8006\n",
      "         5   MinMaxScaler SVM                               0:00:39       0.7415    0.8006\n",
      "         6   MaxAbsScaler GradientBoosting                  0:00:47       0.7879    0.8006\n",
      "         7   StandardScalerWrapper RandomForest             0:00:43       0.7809    0.8006\n",
      "         8   SparseNormalizer XGBoostClassifier             0:00:42       0.7836    0.8006\n",
      "         9   SparseNormalizer LightGBM                      0:00:41       0.7794    0.8006\n",
      "        10   RobustScaler RandomForest                      0:00:53       0.8048    0.8048\n",
      "        11   MaxAbsScaler LightGBM                          0:00:44       0.7893    0.8048\n",
      "        12   RobustScaler ExtremeRandomTrees                0:00:41       0.7879    0.8048\n",
      "        13   SparseNormalizer XGBoostClassifier             0:00:45       0.7766    0.8048\n",
      "        14   StandardScalerWrapper ExtremeRandomTrees       0:00:43       0.7893    0.8048\n",
      "        15   StandardScalerWrapper XGBoostClassifier        0:00:47       0.7978    0.8048\n",
      "        16   SparseNormalizer XGBoostClassifier             0:00:47       0.7963    0.8048\n",
      "        17   SparseNormalizer XGBoostClassifier             0:00:49       0.7767    0.8048\n",
      "        18   MinMaxScaler RandomForest                      0:00:48       0.8062    0.8062\n",
      "        19   StandardScalerWrapper RandomForest             0:00:48       0.7837    0.8062\n",
      "        20   SparseNormalizer GradientBoosting              0:00:46       0.7725    0.8062\n",
      "        21   MaxAbsScaler ExtremeRandomTrees                0:00:55       0.7472    0.8062\n",
      "        22   SparseNormalizer XGBoostClassifier             0:00:46       0.7724    0.8062\n",
      "        23   MaxAbsScaler LightGBM                          0:00:42       0.7851    0.8062\n",
      "        24   RobustScaler RandomForest                      0:00:42       0.7879    0.8062\n",
      "        25   StandardScalerWrapper RandomForest             0:00:47       0.6320    0.8062\n",
      "        26   MaxAbsScaler LightGBM                          0:00:46       0.8118    0.8118\n",
      "        27   MaxAbsScaler RandomForest                      0:00:47       0.7992    0.8118\n",
      "        28   SparseNormalizer XGBoostClassifier             0:00:51       0.7949    0.8118\n",
      "        29    VotingEnsemble                                0:01:17       0.8118    0.8118\n"
     ]
    }
   ],
   "source": [
    "#Run AutoML on a remote compute target\n",
    "remote_run = exp.submit(config=automl_config, show_output=True)"
   ]
  },
  {
   "cell_type": "code",
   "execution_count": 7,
   "metadata": {
    "colab": {
     "referenced_widgets": [
      "eff5995fd151486ebeb740330d55854f"
     ]
    },
    "id": "OVpU6k0XrZvO",
    "outputId": "edfd5551-156f-4845-eb7d-2fe5c4018cbf"
   },
   "outputs": [
    {
     "data": {
      "application/vnd.jupyter.widget-view+json": {
       "model_id": "6535cd22f0574971b8dffbf691a1f872",
       "version_major": 2,
       "version_minor": 0
      },
      "text/plain": [
       "_AutoMLWidget(widget_settings={'childWidgetDisplay': 'popup', 'send_telemetry': False, 'log_level': 'INFO', 's…"
      ]
     },
     "metadata": {},
     "output_type": "display_data"
    },
    {
     "data": {
      "application/aml.mini.widget.v1": "{\"status\": \"Completed\", \"workbench_run_details_uri\": \"https://ml.azure.com/experiments/AutoML/runs/AutoML_025f2b39-b2d8-4bca-bfe4-eaabcae87cef?wsid=/subscriptions/81cefad3-d2c9-4f77-a466-99a7f541c7bb/resourcegroups/aml-quickstarts-135681/workspaces/quick-starts-ws-135681\", \"run_id\": \"AutoML_025f2b39-b2d8-4bca-bfe4-eaabcae87cef\", \"run_properties\": {\"run_id\": \"AutoML_025f2b39-b2d8-4bca-bfe4-eaabcae87cef\", \"created_utc\": \"2021-01-22T09:18:27.423584Z\", \"properties\": {\"num_iterations\": \"1000\", \"training_type\": \"TrainFull\", \"acquisition_function\": \"EI\", \"primary_metric\": \"accuracy\", \"train_split\": \"0\", \"acquisition_parameter\": \"0\", \"num_cross_validation\": \"5\", \"target\": \"cpucluster\", \"AMLSettingsJsonString\": \"{\\\"path\\\":null,\\\"name\\\":\\\"AutoML\\\",\\\"subscription_id\\\":\\\"81cefad3-d2c9-4f77-a466-99a7f541c7bb\\\",\\\"resource_group\\\":\\\"aml-quickstarts-135681\\\",\\\"workspace_name\\\":\\\"quick-starts-ws-135681\\\",\\\"region\\\":\\\"southcentralus\\\",\\\"compute_target\\\":\\\"cpucluster\\\",\\\"spark_service\\\":null,\\\"azure_service\\\":\\\"remote\\\",\\\"many_models\\\":false,\\\"pipeline_fetch_max_batch_size\\\":1,\\\"iterations\\\":1000,\\\"primary_metric\\\":\\\"accuracy\\\",\\\"task_type\\\":\\\"classification\\\",\\\"data_script\\\":null,\\\"validation_size\\\":0.0,\\\"n_cross_validations\\\":5,\\\"y_min\\\":null,\\\"y_max\\\":null,\\\"num_classes\\\":null,\\\"featurization\\\":\\\"auto\\\",\\\"_ignore_package_version_incompatibilities\\\":false,\\\"is_timeseries\\\":false,\\\"max_cores_per_iteration\\\":1,\\\"max_concurrent_iterations\\\":1,\\\"iteration_timeout_minutes\\\":null,\\\"mem_in_mb\\\":null,\\\"enforce_time_on_windows\\\":false,\\\"experiment_timeout_minutes\\\":30,\\\"experiment_exit_score\\\":null,\\\"whitelist_models\\\":null,\\\"blacklist_algos\\\":[\\\"TensorFlowLinearClassifier\\\",\\\"TensorFlowDNN\\\"],\\\"supported_models\\\":[\\\"LightGBM\\\",\\\"SVM\\\",\\\"BernoulliNaiveBayes\\\",\\\"TensorFlowLinearClassifier\\\",\\\"DecisionTree\\\",\\\"MultinomialNaiveBayes\\\",\\\"KNN\\\",\\\"LinearSVM\\\",\\\"ExtremeRandomTrees\\\",\\\"GradientBoosting\\\",\\\"RandomForest\\\",\\\"LogisticRegression\\\",\\\"AveragedPerceptronClassifier\\\",\\\"XGBoostClassifier\\\",\\\"SGD\\\",\\\"TensorFlowDNN\\\"],\\\"auto_blacklist\\\":true,\\\"blacklist_samples_reached\\\":false,\\\"exclude_nan_labels\\\":true,\\\"verbosity\\\":20,\\\"_debug_log\\\":\\\"azureml_automl.log\\\",\\\"show_warnings\\\":false,\\\"model_explainability\\\":true,\\\"service_url\\\":null,\\\"sdk_url\\\":null,\\\"sdk_packages\\\":null,\\\"enable_onnx_compatible_models\\\":true,\\\"enable_split_onnx_featurizer_estimator_models\\\":false,\\\"vm_type\\\":\\\"STANDARD_D2_V2\\\",\\\"telemetry_verbosity\\\":20,\\\"send_telemetry\\\":true,\\\"enable_dnn\\\":false,\\\"scenario\\\":\\\"SDK-1.13.0\\\",\\\"environment_label\\\":null,\\\"force_text_dnn\\\":false,\\\"enable_feature_sweeping\\\":false,\\\"enable_early_stopping\\\":false,\\\"early_stopping_n_iters\\\":10,\\\"metrics\\\":null,\\\"enable_ensembling\\\":true,\\\"enable_stack_ensembling\\\":false,\\\"ensemble_iterations\\\":15,\\\"enable_tf\\\":false,\\\"enable_subsampling\\\":null,\\\"subsample_seed\\\":null,\\\"enable_nimbusml\\\":false,\\\"enable_streaming\\\":false,\\\"force_streaming\\\":false,\\\"track_child_runs\\\":true,\\\"allowed_private_models\\\":[],\\\"label_column_name\\\":\\\"Survived\\\",\\\"weight_column_name\\\":null,\\\"cv_split_column_names\\\":null,\\\"enable_local_managed\\\":false,\\\"_local_managed_run_id\\\":null,\\\"cost_mode\\\":1,\\\"lag_length\\\":0,\\\"metric_operation\\\":\\\"maximize\\\",\\\"preprocess\\\":true}\", \"DataPrepJsonString\": \"{\\\\\\\"training_data\\\\\\\": \\\\\\\"{\\\\\\\\\\\\\\\"blocks\\\\\\\\\\\\\\\": [{\\\\\\\\\\\\\\\"id\\\\\\\\\\\\\\\": \\\\\\\\\\\\\\\"91b35c21-618e-4837-ac7a-5c22e822ce48\\\\\\\\\\\\\\\", \\\\\\\\\\\\\\\"type\\\\\\\\\\\\\\\": \\\\\\\\\\\\\\\"Microsoft.DPrep.GetDatastoreFilesBlock\\\\\\\\\\\\\\\", \\\\\\\\\\\\\\\"arguments\\\\\\\\\\\\\\\": {\\\\\\\\\\\\\\\"datastores\\\\\\\\\\\\\\\": [{\\\\\\\\\\\\\\\"datastoreName\\\\\\\\\\\\\\\": \\\\\\\\\\\\\\\"workspaceblobstore\\\\\\\\\\\\\\\", \\\\\\\\\\\\\\\"path\\\\\\\\\\\\\\\": \\\\\\\\\\\\\\\"data/train.csv\\\\\\\\\\\\\\\", \\\\\\\\\\\\\\\"resourceGroup\\\\\\\\\\\\\\\": \\\\\\\\\\\\\\\"aml-quickstarts-135681\\\\\\\\\\\\\\\", \\\\\\\\\\\\\\\"subscription\\\\\\\\\\\\\\\": \\\\\\\\\\\\\\\"81cefad3-d2c9-4f77-a466-99a7f541c7bb\\\\\\\\\\\\\\\", \\\\\\\\\\\\\\\"workspaceName\\\\\\\\\\\\\\\": \\\\\\\\\\\\\\\"quick-starts-ws-135681\\\\\\\\\\\\\\\"}]}, \\\\\\\\\\\\\\\"localData\\\\\\\\\\\\\\\": {}, \\\\\\\\\\\\\\\"isEnabled\\\\\\\\\\\\\\\": true, \\\\\\\\\\\\\\\"name\\\\\\\\\\\\\\\": null, \\\\\\\\\\\\\\\"annotation\\\\\\\\\\\\\\\": null}, {\\\\\\\\\\\\\\\"id\\\\\\\\\\\\\\\": \\\\\\\\\\\\\\\"4bbac362-2f96-45a8-8290-f3053ae2a837\\\\\\\\\\\\\\\", \\\\\\\\\\\\\\\"type\\\\\\\\\\\\\\\": \\\\\\\\\\\\\\\"Microsoft.DPrep.ParseDelimitedBlock\\\\\\\\\\\\\\\", \\\\\\\\\\\\\\\"arguments\\\\\\\\\\\\\\\": {\\\\\\\\\\\\\\\"columnHeadersMode\\\\\\\\\\\\\\\": 3, \\\\\\\\\\\\\\\"fileEncoding\\\\\\\\\\\\\\\": 0, \\\\\\\\\\\\\\\"handleQuotedLineBreaks\\\\\\\\\\\\\\\": false, \\\\\\\\\\\\\\\"preview\\\\\\\\\\\\\\\": false, \\\\\\\\\\\\\\\"separator\\\\\\\\\\\\\\\": \\\\\\\\\\\\\\\",\\\\\\\\\\\\\\\", \\\\\\\\\\\\\\\"skipRows\\\\\\\\\\\\\\\": 0, \\\\\\\\\\\\\\\"skipRowsMode\\\\\\\\\\\\\\\": 0}, \\\\\\\\\\\\\\\"localData\\\\\\\\\\\\\\\": {}, \\\\\\\\\\\\\\\"isEnabled\\\\\\\\\\\\\\\": true, \\\\\\\\\\\\\\\"name\\\\\\\\\\\\\\\": null, \\\\\\\\\\\\\\\"annotation\\\\\\\\\\\\\\\": null}, {\\\\\\\\\\\\\\\"id\\\\\\\\\\\\\\\": \\\\\\\\\\\\\\\"0d802d40-9b86-442c-966c-39688f273bb3\\\\\\\\\\\\\\\", \\\\\\\\\\\\\\\"type\\\\\\\\\\\\\\\": \\\\\\\\\\\\\\\"Microsoft.DPrep.DropColumnsBlock\\\\\\\\\\\\\\\", \\\\\\\\\\\\\\\"arguments\\\\\\\\\\\\\\\": {\\\\\\\\\\\\\\\"columns\\\\\\\\\\\\\\\": {\\\\\\\\\\\\\\\"type\\\\\\\\\\\\\\\": 0, \\\\\\\\\\\\\\\"details\\\\\\\\\\\\\\\": {\\\\\\\\\\\\\\\"selectedColumns\\\\\\\\\\\\\\\": [\\\\\\\\\\\\\\\"Path\\\\\\\\\\\\\\\"]}}}, \\\\\\\\\\\\\\\"localData\\\\\\\\\\\\\\\": {}, \\\\\\\\\\\\\\\"isEnabled\\\\\\\\\\\\\\\": true, \\\\\\\\\\\\\\\"name\\\\\\\\\\\\\\\": null, \\\\\\\\\\\\\\\"annotation\\\\\\\\\\\\\\\": null}, {\\\\\\\\\\\\\\\"id\\\\\\\\\\\\\\\": \\\\\\\\\\\\\\\"85465347-eec3-49f6-ac5e-ac9524a3b629\\\\\\\\\\\\\\\", \\\\\\\\\\\\\\\"type\\\\\\\\\\\\\\\": \\\\\\\\\\\\\\\"Microsoft.DPrep.SetColumnTypesBlock\\\\\\\\\\\\\\\", \\\\\\\\\\\\\\\"arguments\\\\\\\\\\\\\\\": {\\\\\\\\\\\\\\\"columnConversion\\\\\\\\\\\\\\\": [{\\\\\\\\\\\\\\\"column\\\\\\\\\\\\\\\": {\\\\\\\\\\\\\\\"type\\\\\\\\\\\\\\\": 2, \\\\\\\\\\\\\\\"details\\\\\\\\\\\\\\\": {\\\\\\\\\\\\\\\"selectedColumn\\\\\\\\\\\\\\\": \\\\\\\\\\\\\\\"Column1\\\\\\\\\\\\\\\"}}, \\\\\\\\\\\\\\\"typeProperty\\\\\\\\\\\\\\\": 2}, {\\\\\\\\\\\\\\\"column\\\\\\\\\\\\\\\": {\\\\\\\\\\\\\\\"type\\\\\\\\\\\\\\\": 2, \\\\\\\\\\\\\\\"details\\\\\\\\\\\\\\\": {\\\\\\\\\\\\\\\"selectedColumn\\\\\\\\\\\\\\\": \\\\\\\\\\\\\\\"Age_2.0\\\\\\\\\\\\\\\"}}, \\\\\\\\\\\\\\\"typeProperty\\\\\\\\\\\\\\\": 2}, {\\\\\\\\\\\\\\\"column\\\\\\\\\\\\\\\": {\\\\\\\\\\\\\\\"type\\\\\\\\\\\\\\\": 2, \\\\\\\\\\\\\\\"details\\\\\\\\\\\\\\\": {\\\\\\\\\\\\\\\"selectedColumn\\\\\\\\\\\\\\\": \\\\\\\\\\\\\\\"Age_3.0\\\\\\\\\\\\\\\"}}, \\\\\\\\\\\\\\\"typeProperty\\\\\\\\\\\\\\\": 2}, {\\\\\\\\\\\\\\\"column\\\\\\\\\\\\\\\": {\\\\\\\\\\\\\\\"type\\\\\\\\\\\\\\\": 2, \\\\\\\\\\\\\\\"details\\\\\\\\\\\\\\\": {\\\\\\\\\\\\\\\"selectedColumn\\\\\\\\\\\\\\\": \\\\\\\\\\\\\\\"Age_4.0\\\\\\\\\\\\\\\"}}, \\\\\\\\\\\\\\\"typeProperty\\\\\\\\\\\\\\\": 2}, {\\\\\\\\\\\\\\\"column\\\\\\\\\\\\\\\": {\\\\\\\\\\\\\\\"type\\\\\\\\\\\\\\\": 2, \\\\\\\\\\\\\\\"details\\\\\\\\\\\\\\\": {\\\\\\\\\\\\\\\"selectedColumn\\\\\\\\\\\\\\\": \\\\\\\\\\\\\\\"Fare_2.0\\\\\\\\\\\\\\\"}}, \\\\\\\\\\\\\\\"typeProperty\\\\\\\\\\\\\\\": 2}, {\\\\\\\\\\\\\\\"column\\\\\\\\\\\\\\\": {\\\\\\\\\\\\\\\"type\\\\\\\\\\\\\\\": 2, \\\\\\\\\\\\\\\"details\\\\\\\\\\\\\\\": {\\\\\\\\\\\\\\\"selectedColumn\\\\\\\\\\\\\\\": \\\\\\\\\\\\\\\"Fare_3.0\\\\\\\\\\\\\\\"}}, \\\\\\\\\\\\\\\"typeProperty\\\\\\\\\\\\\\\": 2}, {\\\\\\\\\\\\\\\"column\\\\\\\\\\\\\\\": {\\\\\\\\\\\\\\\"type\\\\\\\\\\\\\\\": 2, \\\\\\\\\\\\\\\"details\\\\\\\\\\\\\\\": {\\\\\\\\\\\\\\\"selectedColumn\\\\\\\\\\\\\\\": \\\\\\\\\\\\\\\"Fare_4.0\\\\\\\\\\\\\\\"}}, \\\\\\\\\\\\\\\"typeProperty\\\\\\\\\\\\\\\": 2}, {\\\\\\\\\\\\\\\"column\\\\\\\\\\\\\\\": {\\\\\\\\\\\\\\\"type\\\\\\\\\\\\\\\": 2, \\\\\\\\\\\\\\\"details\\\\\\\\\\\\\\\": {\\\\\\\\\\\\\\\"selectedColumn\\\\\\\\\\\\\\\": \\\\\\\\\\\\\\\"Pclass_2\\\\\\\\\\\\\\\"}}, \\\\\\\\\\\\\\\"typeProperty\\\\\\\\\\\\\\\": 2}, {\\\\\\\\\\\\\\\"column\\\\\\\\\\\\\\\": {\\\\\\\\\\\\\\\"type\\\\\\\\\\\\\\\": 2, \\\\\\\\\\\\\\\"details\\\\\\\\\\\\\\\": {\\\\\\\\\\\\\\\"selectedColumn\\\\\\\\\\\\\\\": \\\\\\\\\\\\\\\"Pclass_3\\\\\\\\\\\\\\\"}}, \\\\\\\\\\\\\\\"typeProperty\\\\\\\\\\\\\\\": 2}, {\\\\\\\\\\\\\\\"column\\\\\\\\\\\\\\\": {\\\\\\\\\\\\\\\"type\\\\\\\\\\\\\\\": 2, \\\\\\\\\\\\\\\"details\\\\\\\\\\\\\\\": {\\\\\\\\\\\\\\\"selectedColumn\\\\\\\\\\\\\\\": \\\\\\\\\\\\\\\"Sex_male\\\\\\\\\\\\\\\"}}, \\\\\\\\\\\\\\\"typeProperty\\\\\\\\\\\\\\\": 2}, {\\\\\\\\\\\\\\\"column\\\\\\\\\\\\\\\": {\\\\\\\\\\\\\\\"type\\\\\\\\\\\\\\\": 2, \\\\\\\\\\\\\\\"details\\\\\\\\\\\\\\\": {\\\\\\\\\\\\\\\"selectedColumn\\\\\\\\\\\\\\\": \\\\\\\\\\\\\\\"Embarked_Q\\\\\\\\\\\\\\\"}}, \\\\\\\\\\\\\\\"typeProperty\\\\\\\\\\\\\\\": 2}, {\\\\\\\\\\\\\\\"column\\\\\\\\\\\\\\\": {\\\\\\\\\\\\\\\"type\\\\\\\\\\\\\\\": 2, \\\\\\\\\\\\\\\"details\\\\\\\\\\\\\\\": {\\\\\\\\\\\\\\\"selectedColumn\\\\\\\\\\\\\\\": \\\\\\\\\\\\\\\"Embarked_S\\\\\\\\\\\\\\\"}}, \\\\\\\\\\\\\\\"typeProperty\\\\\\\\\\\\\\\": 2}, {\\\\\\\\\\\\\\\"column\\\\\\\\\\\\\\\": {\\\\\\\\\\\\\\\"type\\\\\\\\\\\\\\\": 2, \\\\\\\\\\\\\\\"details\\\\\\\\\\\\\\\": {\\\\\\\\\\\\\\\"selectedColumn\\\\\\\\\\\\\\\": \\\\\\\\\\\\\\\"Family_type_Large\\\\\\\\\\\\\\\"}}, \\\\\\\\\\\\\\\"typeProperty\\\\\\\\\\\\\\\": 2}, {\\\\\\\\\\\\\\\"column\\\\\\\\\\\\\\\": {\\\\\\\\\\\\\\\"type\\\\\\\\\\\\\\\": 2, \\\\\\\\\\\\\\\"details\\\\\\\\\\\\\\\": {\\\\\\\\\\\\\\\"selectedColumn\\\\\\\\\\\\\\\": \\\\\\\\\\\\\\\"Family_type_Medium\\\\\\\\\\\\\\\"}}, \\\\\\\\\\\\\\\"typeProperty\\\\\\\\\\\\\\\": 2}, {\\\\\\\\\\\\\\\"column\\\\\\\\\\\\\\\": {\\\\\\\\\\\\\\\"type\\\\\\\\\\\\\\\": 2, \\\\\\\\\\\\\\\"details\\\\\\\\\\\\\\\": {\\\\\\\\\\\\\\\"selectedColumn\\\\\\\\\\\\\\\": \\\\\\\\\\\\\\\"Survived\\\\\\\\\\\\\\\"}}, \\\\\\\\\\\\\\\"typeProperty\\\\\\\\\\\\\\\": 2}]}, \\\\\\\\\\\\\\\"localData\\\\\\\\\\\\\\\": {}, \\\\\\\\\\\\\\\"isEnabled\\\\\\\\\\\\\\\": true, \\\\\\\\\\\\\\\"name\\\\\\\\\\\\\\\": null, \\\\\\\\\\\\\\\"annotation\\\\\\\\\\\\\\\": null}], \\\\\\\\\\\\\\\"inspectors\\\\\\\\\\\\\\\": [], \\\\\\\\\\\\\\\"meta\\\\\\\\\\\\\\\": {\\\\\\\\\\\\\\\"savedDatasetId\\\\\\\\\\\\\\\": \\\\\\\\\\\\\\\"0e1cfa55-2cc4-4663-90cf-93c5edd45c5a\\\\\\\\\\\\\\\", \\\\\\\\\\\\\\\"datasetType\\\\\\\\\\\\\\\": \\\\\\\\\\\\\\\"tabular\\\\\\\\\\\\\\\", \\\\\\\\\\\\\\\"subscriptionId\\\\\\\\\\\\\\\": \\\\\\\\\\\\\\\"81cefad3-d2c9-4f77-a466-99a7f541c7bb\\\\\\\\\\\\\\\", \\\\\\\\\\\\\\\"workspaceId\\\\\\\\\\\\\\\": \\\\\\\\\\\\\\\"c3854bc9-e9a3-4032-bd5c-dbe8ec9abfd6\\\\\\\\\\\\\\\", \\\\\\\\\\\\\\\"workspaceLocation\\\\\\\\\\\\\\\": \\\\\\\\\\\\\\\"southcentralus\\\\\\\\\\\\\\\"}}\\\\\\\", \\\\\\\"activities\\\\\\\": 0}\", \"EnableSubsampling\": null, \"runTemplate\": \"AutoML\", \"azureml.runsource\": \"automl\", \"display_task_type\": \"classification\", \"dependencies_versions\": \"{\\\"azureml-widgets\\\": \\\"1.19.0\\\", \\\"azureml-train\\\": \\\"1.19.0\\\", \\\"azureml-train-restclients-hyperdrive\\\": \\\"1.19.0\\\", \\\"azureml-train-core\\\": \\\"1.19.0\\\", \\\"azureml-train-automl\\\": \\\"1.19.0\\\", \\\"azureml-train-automl-runtime\\\": \\\"1.19.0\\\", \\\"azureml-train-automl-client\\\": \\\"1.19.0\\\", \\\"azureml-tensorboard\\\": \\\"1.19.0\\\", \\\"azureml-telemetry\\\": \\\"1.19.0\\\", \\\"azureml-sdk\\\": \\\"1.19.0\\\", \\\"azureml-samples\\\": \\\"0+unknown\\\", \\\"azureml-pipeline\\\": \\\"1.19.0\\\", \\\"azureml-pipeline-steps\\\": \\\"1.19.0\\\", \\\"azureml-pipeline-core\\\": \\\"1.19.0\\\", \\\"azureml-opendatasets\\\": \\\"1.19.0\\\", \\\"azureml-model-management-sdk\\\": \\\"1.0.1b6.post1\\\", \\\"azureml-mlflow\\\": \\\"1.19.0\\\", \\\"azureml-interpret\\\": \\\"1.19.0\\\", \\\"azureml-explain-model\\\": \\\"1.19.0\\\", \\\"azureml-defaults\\\": \\\"1.19.0\\\", \\\"azureml-dataset-runtime\\\": \\\"1.19.0.post1\\\", \\\"azureml-dataprep\\\": \\\"2.6.1\\\", \\\"azureml-dataprep-rslex\\\": \\\"1.4.0\\\", \\\"azureml-dataprep-native\\\": \\\"26.0.0\\\", \\\"azureml-datadrift\\\": \\\"1.19.0\\\", \\\"azureml-core\\\": \\\"1.19.0\\\", \\\"azureml-contrib-services\\\": \\\"1.19.0\\\", \\\"azureml-contrib-server\\\": \\\"1.19.0\\\", \\\"azureml-contrib-reinforcementlearning\\\": \\\"1.19.0\\\", \\\"azureml-contrib-pipeline-steps\\\": \\\"1.19.0\\\", \\\"azureml-contrib-notebook\\\": \\\"1.19.0\\\", \\\"azureml-contrib-interpret\\\": \\\"1.19.0\\\", \\\"azureml-contrib-gbdt\\\": \\\"1.19.0\\\", \\\"azureml-contrib-fairness\\\": \\\"1.19.0\\\", \\\"azureml-contrib-dataset\\\": \\\"1.19.0\\\", \\\"azureml-cli-common\\\": \\\"1.19.0\\\", \\\"azureml-automl-runtime\\\": \\\"1.19.0\\\", \\\"azureml-automl-core\\\": \\\"1.19.0\\\", \\\"azureml-accel-models\\\": \\\"1.19.0\\\"}\", \"_aml_system_scenario_identification\": \"Remote.Parent\", \"ClientType\": \"SDK\", \"environment_cpu_name\": \"AzureML-AutoML\", \"environment_cpu_label\": \"prod\", \"environment_gpu_name\": \"AzureML-AutoML-GPU\", \"environment_gpu_label\": \"prod\", \"root_attribution\": \"automl\", \"attribution\": \"AutoML\", \"Orchestrator\": \"AutoML\", \"CancelUri\": \"https://southcentralus.experiments.azureml.net/jasmine/v1.0/subscriptions/81cefad3-d2c9-4f77-a466-99a7f541c7bb/resourceGroups/aml-quickstarts-135681/providers/Microsoft.MachineLearningServices/workspaces/quick-starts-ws-135681/experimentids/ccb1bbd4-42a2-42c4-ba42-9c285739baa8/cancel/AutoML_025f2b39-b2d8-4bca-bfe4-eaabcae87cef\", \"ClientSdkVersion\": \"1.20.0\", \"snapshotId\": \"00000000-0000-0000-0000-000000000000\", \"SetupRunId\": \"AutoML_025f2b39-b2d8-4bca-bfe4-eaabcae87cef_setup\", \"SetupRunContainerId\": \"dcid.AutoML_025f2b39-b2d8-4bca-bfe4-eaabcae87cef_setup\", \"FeaturizationRunJsonPath\": \"featurizer_container.json\", \"FeaturizationRunId\": \"AutoML_025f2b39-b2d8-4bca-bfe4-eaabcae87cef_featurize\", \"ProblemInfoJsonString\": \"{\\\"dataset_num_categorical\\\": 0, \\\"is_sparse\\\": false, \\\"subsampling\\\": false, \\\"dataset_classes\\\": 2, \\\"dataset_features\\\": 14, \\\"dataset_samples\\\": 712, \\\"single_frequency_class_detected\\\": false}\", \"ModelExplainRunId\": \"AutoML_025f2b39-b2d8-4bca-bfe4-eaabcae87cef_ModelExplain\"}, \"tags\": {\"model_explain_run\": \"best_run\", \"_aml_system_azureml.automlComponent\": \"AutoML\", \"pipeline_id\": \"\", \"score\": \"\", \"predicted_cost\": \"\", \"fit_time\": \"\", \"training_percent\": \"\", \"iteration\": \"\", \"run_preprocessor\": \"\", \"run_algorithm\": \"\", \"dynamic_whitelisting_iterations\": \"<25>;\", \"automl_best_child_run_id\": \"AutoML_025f2b39-b2d8-4bca-bfe4-eaabcae87cef_26\", \"model_explain_best_run_child_id\": \"AutoML_025f2b39-b2d8-4bca-bfe4-eaabcae87cef_26\"}, \"end_time_utc\": \"2021-01-22T10:02:40.988334Z\", \"status\": \"Completed\", \"log_files\": {}, \"log_groups\": [], \"run_duration\": \"0:44:13\"}, \"child_runs\": [{\"run_id\": \"AutoML_025f2b39-b2d8-4bca-bfe4-eaabcae87cef_0\", \"run_number\": 6, \"metric\": null, \"status\": \"Completed\", \"run_type\": \"azureml.scriptrun\", \"training_percent\": \"100\", \"start_time\": \"2021-01-22T09:30:10.841724Z\", \"end_time\": \"2021-01-22T09:30:57.156842Z\", \"created_time\": \"2021-01-22T09:29:58.917684Z\", \"created_time_dt\": \"2021-01-22T09:29:58.917684Z\", \"duration\": \"0:00:58\", \"iteration\": \"0\", \"goal\": \"accuracy_max\", \"run_name\": \"MaxAbsScaler, LightGBM\", \"run_properties\": \"copy=True\", \"primary_metric\": 0.77243179, \"best_metric\": 0.77243179}, {\"run_id\": \"AutoML_025f2b39-b2d8-4bca-bfe4-eaabcae87cef_1\", \"run_number\": 7, \"metric\": null, \"status\": \"Completed\", \"run_type\": \"azureml.scriptrun\", \"training_percent\": \"100\", \"start_time\": \"2021-01-22T09:31:11.010886Z\", \"end_time\": \"2021-01-22T09:31:50.020595Z\", \"created_time\": \"2021-01-22T09:30:59.080633Z\", \"created_time_dt\": \"2021-01-22T09:30:59.080633Z\", \"duration\": \"0:00:50\", \"iteration\": \"1\", \"goal\": \"accuracy_max\", \"run_name\": \"MaxAbsScaler, XGBoostClassifier\", \"run_properties\": \"copy=True\", \"primary_metric\": 0.7893529, \"best_metric\": 0.7893529}, {\"run_id\": \"AutoML_025f2b39-b2d8-4bca-bfe4-eaabcae87cef_2\", \"run_number\": 8, \"metric\": null, \"status\": \"Completed\", \"run_type\": \"azureml.scriptrun\", \"training_percent\": \"100\", \"start_time\": \"2021-01-22T09:32:04.394711Z\", \"end_time\": \"2021-01-22T09:32:56.040823Z\", \"created_time\": \"2021-01-22T09:31:52.025941Z\", \"created_time_dt\": \"2021-01-22T09:31:52.025941Z\", \"duration\": \"0:01:04\", \"iteration\": \"2\", \"goal\": \"accuracy_max\", \"run_name\": \"MinMaxScaler, RandomForest\", \"run_properties\": \"copy=True, feature_range=(0, 1\", \"primary_metric\": 0.80055156, \"best_metric\": 0.80055156}, {\"run_id\": \"AutoML_025f2b39-b2d8-4bca-bfe4-eaabcae87cef_3\", \"run_number\": 9, \"metric\": null, \"status\": \"Completed\", \"run_type\": \"azureml.scriptrun\", \"training_percent\": \"100\", \"start_time\": \"2021-01-22T09:33:08.810746Z\", \"end_time\": \"2021-01-22T09:34:00.824196Z\", \"created_time\": \"2021-01-22T09:32:58.023053Z\", \"created_time_dt\": \"2021-01-22T09:32:58.023053Z\", \"duration\": \"0:01:02\", \"iteration\": \"3\", \"goal\": \"accuracy_max\", \"run_name\": \"MinMaxScaler, RandomForest\", \"run_properties\": \"copy=True, feature_range=(0, 1\", \"primary_metric\": 0.76820644, \"best_metric\": 0.80055156}, {\"run_id\": \"AutoML_025f2b39-b2d8-4bca-bfe4-eaabcae87cef_4\", \"run_number\": 10, \"metric\": null, \"status\": \"Completed\", \"run_type\": \"azureml.scriptrun\", \"training_percent\": \"100\", \"start_time\": \"2021-01-22T09:34:14.285959Z\", \"end_time\": \"2021-01-22T09:34:59.803349Z\", \"created_time\": \"2021-01-22T09:34:02.711655Z\", \"created_time_dt\": \"2021-01-22T09:34:02.711655Z\", \"duration\": \"0:00:57\", \"iteration\": \"4\", \"goal\": \"accuracy_max\", \"run_name\": \"MinMaxScaler, RandomForest\", \"run_properties\": \"copy=True, feature_range=(0, 1\", \"primary_metric\": 0.77521915, \"best_metric\": 0.80055156}, {\"run_id\": \"AutoML_025f2b39-b2d8-4bca-bfe4-eaabcae87cef_5\", \"run_number\": 11, \"metric\": null, \"status\": \"Completed\", \"run_type\": \"azureml.scriptrun\", \"training_percent\": \"100\", \"start_time\": \"2021-01-22T09:35:16.133735Z\", \"end_time\": \"2021-01-22T09:35:54.811051Z\", \"created_time\": \"2021-01-22T09:35:02.81094Z\", \"created_time_dt\": \"2021-01-22T09:35:02.81094Z\", \"duration\": \"0:00:52\", \"iteration\": \"5\", \"goal\": \"accuracy_max\", \"run_name\": \"MinMaxScaler, SVM\", \"run_properties\": \"copy=True, feature_range=(0, 1\", \"primary_metric\": 0.74148528, \"best_metric\": 0.80055156}, {\"run_id\": \"AutoML_025f2b39-b2d8-4bca-bfe4-eaabcae87cef_6\", \"run_number\": 12, \"metric\": null, \"status\": \"Completed\", \"run_type\": \"azureml.scriptrun\", \"training_percent\": \"100\", \"start_time\": \"2021-01-22T09:36:08.590488Z\", \"end_time\": \"2021-01-22T09:36:56.031519Z\", \"created_time\": \"2021-01-22T09:35:57.659474Z\", \"created_time_dt\": \"2021-01-22T09:35:57.659474Z\", \"duration\": \"0:00:58\", \"iteration\": \"6\", \"goal\": \"accuracy_max\", \"run_name\": \"MaxAbsScaler, GradientBoosting\", \"run_properties\": \"copy=True\", \"primary_metric\": 0.7879346, \"best_metric\": 0.80055156}, {\"run_id\": \"AutoML_025f2b39-b2d8-4bca-bfe4-eaabcae87cef_7\", \"run_number\": 13, \"metric\": null, \"status\": \"Completed\", \"run_type\": \"azureml.scriptrun\", \"training_percent\": \"100\", \"start_time\": \"2021-01-22T09:37:09.736952Z\", \"end_time\": \"2021-01-22T09:37:53.082561Z\", \"created_time\": \"2021-01-22T09:36:57.791694Z\", \"created_time_dt\": \"2021-01-22T09:36:57.791694Z\", \"duration\": \"0:00:55\", \"iteration\": \"7\", \"goal\": \"accuracy_max\", \"run_name\": \"StandardScalerWrapper, RandomForest\", \"run_properties\": \"<azureml.automl.runtime.shared.model_wrappers.StandardScalerWrapper object at 0x7fb166337898\", \"primary_metric\": 0.78087265, \"best_metric\": 0.80055156}, {\"run_id\": \"AutoML_025f2b39-b2d8-4bca-bfe4-eaabcae87cef_8\", \"run_number\": 14, \"metric\": null, \"status\": \"Completed\", \"run_type\": \"azureml.scriptrun\", \"training_percent\": \"100\", \"start_time\": \"2021-01-22T09:38:05.470303Z\", \"end_time\": \"2021-01-22T09:38:47.329858Z\", \"created_time\": \"2021-01-22T09:37:55.482403Z\", \"created_time_dt\": \"2021-01-22T09:37:55.482403Z\", \"duration\": \"0:00:51\", \"iteration\": \"8\", \"goal\": \"accuracy_max\", \"run_name\": \"SparseNormalizer, XGBoostClassifier\", \"run_properties\": \"<azureml.automl.runtime.shared.model_wrappers.SparseNormalizer object at 0x7f069ed284a8\", \"primary_metric\": 0.7836206, \"best_metric\": 0.80055156}, {\"run_id\": \"AutoML_025f2b39-b2d8-4bca-bfe4-eaabcae87cef_9\", \"run_number\": 15, \"metric\": null, \"status\": \"Completed\", \"run_type\": \"azureml.scriptrun\", \"training_percent\": \"100\", \"start_time\": \"2021-01-22T09:39:03.010771Z\", \"end_time\": \"2021-01-22T09:39:43.580967Z\", \"created_time\": \"2021-01-22T09:38:49.325413Z\", \"created_time_dt\": \"2021-01-22T09:38:49.325413Z\", \"duration\": \"0:00:54\", \"iteration\": \"9\", \"goal\": \"accuracy_max\", \"run_name\": \"SparseNormalizer, LightGBM\", \"run_properties\": \"<azureml.automl.runtime.shared.model_wrappers.SparseNormalizer object at 0x7f581ca30f60\", \"primary_metric\": 0.7794445, \"best_metric\": 0.80055156}, {\"run_id\": \"AutoML_025f2b39-b2d8-4bca-bfe4-eaabcae87cef_10\", \"run_number\": 16, \"metric\": null, \"status\": \"Completed\", \"run_type\": \"azureml.scriptrun\", \"training_percent\": \"100\", \"start_time\": \"2021-01-22T09:40:32.603558Z\", \"end_time\": \"2021-01-22T09:41:25.234884Z\", \"created_time\": \"2021-01-22T09:39:45.795864Z\", \"created_time_dt\": \"2021-01-22T09:39:45.795864Z\", \"duration\": \"0:01:39\", \"iteration\": \"10\", \"goal\": \"accuracy_max\", \"run_name\": \"RobustScaler, RandomForest\", \"run_properties\": \"copy=True, quantile_range=[10, 90], with_centering=True,\\n             with_scaling=True\", \"primary_metric\": 0.80479661, \"best_metric\": 0.80479661}, {\"run_id\": \"AutoML_025f2b39-b2d8-4bca-bfe4-eaabcae87cef_11\", \"run_number\": 17, \"metric\": null, \"status\": \"Completed\", \"run_type\": \"azureml.scriptrun\", \"training_percent\": \"100\", \"start_time\": \"2021-01-22T09:41:44.160544Z\", \"end_time\": \"2021-01-22T09:42:27.699321Z\", \"created_time\": \"2021-01-22T09:41:28.403513Z\", \"created_time_dt\": \"2021-01-22T09:41:28.403513Z\", \"duration\": \"0:00:59\", \"iteration\": \"11\", \"goal\": \"accuracy_max\", \"run_name\": \"MaxAbsScaler, LightGBM\", \"run_properties\": \"copy=True\", \"primary_metric\": 0.78927411, \"best_metric\": 0.80479661}, {\"run_id\": \"AutoML_025f2b39-b2d8-4bca-bfe4-eaabcae87cef_12\", \"run_number\": 18, \"metric\": null, \"status\": \"Completed\", \"run_type\": \"azureml.scriptrun\", \"training_percent\": \"100\", \"start_time\": \"2021-01-22T09:42:44.592549Z\", \"end_time\": \"2021-01-22T09:43:25.110293Z\", \"created_time\": \"2021-01-22T09:42:30.944169Z\", \"created_time_dt\": \"2021-01-22T09:42:30.944169Z\", \"duration\": \"0:00:54\", \"iteration\": \"12\", \"goal\": \"accuracy_max\", \"run_name\": \"RobustScaler, ExtremeRandomTrees\", \"run_properties\": \"copy=True, quantile_range=[25, 75], with_centering=True,\\n             with_scaling=False\", \"primary_metric\": 0.7878952, \"best_metric\": 0.80479661}, {\"run_id\": \"AutoML_025f2b39-b2d8-4bca-bfe4-eaabcae87cef_13\", \"run_number\": 19, \"metric\": null, \"status\": \"Completed\", \"run_type\": \"azureml.scriptrun\", \"training_percent\": \"100\", \"start_time\": \"2021-01-22T09:43:39.893038Z\", \"end_time\": \"2021-01-22T09:44:25.136694Z\", \"created_time\": \"2021-01-22T09:43:27.561242Z\", \"created_time_dt\": \"2021-01-22T09:43:27.561242Z\", \"duration\": \"0:00:57\", \"iteration\": \"13\", \"goal\": \"accuracy_max\", \"run_name\": \"SparseNormalizer, XGBoostClassifier\", \"run_properties\": \"<azureml.automl.runtime.shared.model_wrappers.SparseNormalizer object at 0x7f94682ba668\", \"primary_metric\": 0.77661775, \"best_metric\": 0.80479661}, {\"run_id\": \"AutoML_025f2b39-b2d8-4bca-bfe4-eaabcae87cef_14\", \"run_number\": 20, \"metric\": null, \"status\": \"Completed\", \"run_type\": \"azureml.scriptrun\", \"training_percent\": \"100\", \"start_time\": \"2021-01-22T09:44:40.658721Z\", \"end_time\": \"2021-01-22T09:45:23.378341Z\", \"created_time\": \"2021-01-22T09:44:27.67572Z\", \"created_time_dt\": \"2021-01-22T09:44:27.67572Z\", \"duration\": \"0:00:55\", \"iteration\": \"14\", \"goal\": \"accuracy_max\", \"run_name\": \"StandardScalerWrapper, ExtremeRandomTrees\", \"run_properties\": \"<azureml.automl.runtime.shared.model_wrappers.StandardScalerWrapper object at 0x7fd2805a6e10\", \"primary_metric\": 0.78930365, \"best_metric\": 0.80479661}, {\"run_id\": \"AutoML_025f2b39-b2d8-4bca-bfe4-eaabcae87cef_15\", \"run_number\": 21, \"metric\": null, \"status\": \"Completed\", \"run_type\": \"azureml.scriptrun\", \"training_percent\": \"100\", \"start_time\": \"2021-01-22T09:45:38.112847Z\", \"end_time\": \"2021-01-22T09:46:25.557139Z\", \"created_time\": \"2021-01-22T09:45:26.198652Z\", \"created_time_dt\": \"2021-01-22T09:45:26.198652Z\", \"duration\": \"0:00:59\", \"iteration\": \"15\", \"goal\": \"accuracy_max\", \"run_name\": \"StandardScalerWrapper, XGBoostClassifier\", \"run_properties\": \"<azureml.automl.runtime.shared.model_wrappers.StandardScalerWrapper object at 0x7f2b9edb1630\", \"primary_metric\": 0.79775436, \"best_metric\": 0.80479661}, {\"run_id\": \"AutoML_025f2b39-b2d8-4bca-bfe4-eaabcae87cef_16\", \"run_number\": 22, \"metric\": null, \"status\": \"Completed\", \"run_type\": \"azureml.scriptrun\", \"training_percent\": \"100\", \"start_time\": \"2021-01-22T09:46:38.318347Z\", \"end_time\": \"2021-01-22T09:47:25.703898Z\", \"created_time\": \"2021-01-22T09:46:27.619168Z\", \"created_time_dt\": \"2021-01-22T09:46:27.619168Z\", \"duration\": \"0:00:58\", \"iteration\": \"16\", \"goal\": \"accuracy_max\", \"run_name\": \"SparseNormalizer, XGBoostClassifier\", \"run_properties\": \"<azureml.automl.runtime.shared.model_wrappers.SparseNormalizer object at 0x7f07cc0745c0\", \"primary_metric\": 0.79631636, \"best_metric\": 0.80479661}, {\"run_id\": \"AutoML_025f2b39-b2d8-4bca-bfe4-eaabcae87cef_17\", \"run_number\": 23, \"metric\": null, \"status\": \"Completed\", \"run_type\": \"azureml.scriptrun\", \"training_percent\": \"100\", \"start_time\": \"2021-01-22T09:47:41.346924Z\", \"end_time\": \"2021-01-22T09:48:29.981784Z\", \"created_time\": \"2021-01-22T09:47:27.728521Z\", \"created_time_dt\": \"2021-01-22T09:47:27.728521Z\", \"duration\": \"0:01:02\", \"iteration\": \"17\", \"goal\": \"accuracy_max\", \"run_name\": \"SparseNormalizer, XGBoostClassifier\", \"run_properties\": \"<azureml.automl.runtime.shared.model_wrappers.SparseNormalizer object at 0x7fa798127198\", \"primary_metric\": 0.77665715, \"best_metric\": 0.80479661}, {\"run_id\": \"AutoML_025f2b39-b2d8-4bca-bfe4-eaabcae87cef_18\", \"run_number\": 24, \"metric\": null, \"status\": \"Completed\", \"run_type\": \"azureml.scriptrun\", \"training_percent\": \"100\", \"start_time\": \"2021-01-22T09:48:44.374832Z\", \"end_time\": \"2021-01-22T09:49:32.024651Z\", \"created_time\": \"2021-01-22T09:48:31.860823Z\", \"created_time_dt\": \"2021-01-22T09:48:31.860823Z\", \"duration\": \"0:01:00\", \"iteration\": \"18\", \"goal\": \"accuracy_max\", \"run_name\": \"MinMaxScaler, RandomForest\", \"run_properties\": \"copy=True, feature_range=(0, 1\", \"primary_metric\": 0.80618536, \"best_metric\": 0.80618536}, {\"run_id\": \"AutoML_025f2b39-b2d8-4bca-bfe4-eaabcae87cef_19\", \"run_number\": 25, \"metric\": null, \"status\": \"Completed\", \"run_type\": \"azureml.scriptrun\", \"training_percent\": \"100\", \"start_time\": \"2021-01-22T09:49:46.509402Z\", \"end_time\": \"2021-01-22T09:50:34.576619Z\", \"created_time\": \"2021-01-22T09:49:34.006209Z\", \"created_time_dt\": \"2021-01-22T09:49:34.006209Z\", \"duration\": \"0:01:00\", \"iteration\": \"19\", \"goal\": \"accuracy_max\", \"run_name\": \"StandardScalerWrapper, RandomForest\", \"run_properties\": \"<azureml.automl.runtime.shared.model_wrappers.StandardScalerWrapper object at 0x7f96ef8239b0\", \"primary_metric\": 0.7836994, \"best_metric\": 0.80618536}, {\"run_id\": \"AutoML_025f2b39-b2d8-4bca-bfe4-eaabcae87cef_20\", \"run_number\": 26, \"metric\": null, \"status\": \"Completed\", \"run_type\": \"azureml.scriptrun\", \"training_percent\": \"100\", \"start_time\": \"2021-01-22T09:50:50.035862Z\", \"end_time\": \"2021-01-22T09:51:36.33793Z\", \"created_time\": \"2021-01-22T09:50:36.46191Z\", \"created_time_dt\": \"2021-01-22T09:50:36.46191Z\", \"duration\": \"0:00:59\", \"iteration\": \"20\", \"goal\": \"accuracy_max\", \"run_name\": \"SparseNormalizer, GradientBoosting\", \"run_properties\": \"<azureml.automl.runtime.shared.model_wrappers.SparseNormalizer object at 0x7fdf064d3940\", \"primary_metric\": 0.77248104, \"best_metric\": 0.80618536}, {\"run_id\": \"AutoML_025f2b39-b2d8-4bca-bfe4-eaabcae87cef_21\", \"run_number\": 27, \"metric\": null, \"status\": \"Completed\", \"run_type\": \"azureml.scriptrun\", \"training_percent\": \"100\", \"start_time\": \"2021-01-22T09:51:50.658298Z\", \"end_time\": \"2021-01-22T09:52:45.923487Z\", \"created_time\": \"2021-01-22T09:51:38.206684Z\", \"created_time_dt\": \"2021-01-22T09:51:38.206684Z\", \"duration\": \"0:01:07\", \"iteration\": \"21\", \"goal\": \"accuracy_max\", \"run_name\": \"MaxAbsScaler, ExtremeRandomTrees\", \"run_properties\": \"copy=True\", \"primary_metric\": 0.74715848, \"best_metric\": 0.80618536}, {\"run_id\": \"AutoML_025f2b39-b2d8-4bca-bfe4-eaabcae87cef_22\", \"run_number\": 28, \"metric\": null, \"status\": \"Completed\", \"run_type\": \"azureml.scriptrun\", \"training_percent\": \"100\", \"start_time\": \"2021-01-22T09:53:02.013805Z\", \"end_time\": \"2021-01-22T09:53:47.718685Z\", \"created_time\": \"2021-01-22T09:52:48.779554Z\", \"created_time_dt\": \"2021-01-22T09:52:48.779554Z\", \"duration\": \"0:00:58\", \"iteration\": \"22\", \"goal\": \"accuracy_max\", \"run_name\": \"SparseNormalizer, XGBoostClassifier\", \"run_properties\": \"<azureml.automl.runtime.shared.model_wrappers.SparseNormalizer object at 0x7f34a9c32710\", \"primary_metric\": 0.77241209, \"best_metric\": 0.80618536}, {\"run_id\": \"AutoML_025f2b39-b2d8-4bca-bfe4-eaabcae87cef_23\", \"run_number\": 29, \"metric\": null, \"status\": \"Completed\", \"run_type\": \"azureml.scriptrun\", \"training_percent\": \"100\", \"start_time\": \"2021-01-22T09:54:00.661601Z\", \"end_time\": \"2021-01-22T09:54:42.476748Z\", \"created_time\": \"2021-01-22T09:53:49.80645Z\", \"created_time_dt\": \"2021-01-22T09:53:49.80645Z\", \"duration\": \"0:00:52\", \"iteration\": \"23\", \"goal\": \"accuracy_max\", \"run_name\": \"MaxAbsScaler, LightGBM\", \"run_properties\": \"copy=True\", \"primary_metric\": 0.78506845, \"best_metric\": 0.80618536}, {\"run_id\": \"AutoML_025f2b39-b2d8-4bca-bfe4-eaabcae87cef_24\", \"run_number\": 30, \"metric\": null, \"status\": \"Completed\", \"run_type\": \"azureml.scriptrun\", \"training_percent\": \"100\", \"start_time\": \"2021-01-22T09:54:56.276144Z\", \"end_time\": \"2021-01-22T09:55:38.03521Z\", \"created_time\": \"2021-01-22T09:54:44.879978Z\", \"created_time_dt\": \"2021-01-22T09:54:44.879978Z\", \"duration\": \"0:00:53\", \"iteration\": \"24\", \"goal\": \"accuracy_max\", \"run_name\": \"RobustScaler, RandomForest\", \"run_properties\": \"copy=True, quantile_range=[10, 90], with_centering=True,\\n             with_scaling=True\", \"primary_metric\": 0.7879149, \"best_metric\": 0.80618536}, {\"run_id\": \"AutoML_025f2b39-b2d8-4bca-bfe4-eaabcae87cef_25\", \"run_number\": 31, \"metric\": null, \"status\": \"Completed\", \"run_type\": \"azureml.scriptrun\", \"training_percent\": \"100\", \"start_time\": \"2021-01-22T09:56:57.763849Z\", \"end_time\": \"2021-01-22T09:57:45.223499Z\", \"created_time\": \"2021-01-22T09:56:16.227378Z\", \"created_time_dt\": \"2021-01-22T09:56:16.227378Z\", \"duration\": \"0:01:28\", \"iteration\": \"25\", \"goal\": \"accuracy_max\", \"run_name\": \"StandardScalerWrapper, RandomForest\", \"run_properties\": \"<azureml.automl.runtime.shared.model_wrappers.StandardScalerWrapper object at 0x7f14547352e8\", \"primary_metric\": 0.63200039, \"best_metric\": 0.80618536}, {\"run_id\": \"AutoML_025f2b39-b2d8-4bca-bfe4-eaabcae87cef_26\", \"run_number\": 32, \"metric\": null, \"status\": \"Completed\", \"run_type\": \"azureml.scriptrun\", \"training_percent\": \"100\", \"start_time\": \"2021-01-22T09:57:59.870335Z\", \"end_time\": \"2021-01-22T09:58:45.562359Z\", \"created_time\": \"2021-01-22T09:57:47.623984Z\", \"created_time_dt\": \"2021-01-22T09:57:47.623984Z\", \"duration\": \"0:00:57\", \"iteration\": \"26\", \"goal\": \"accuracy_max\", \"run_name\": \"MaxAbsScaler, LightGBM\", \"run_properties\": \"copy=True\", \"primary_metric\": 0.81181917, \"best_metric\": 0.81181917}, {\"run_id\": \"AutoML_025f2b39-b2d8-4bca-bfe4-eaabcae87cef_27\", \"run_number\": 33, \"metric\": null, \"status\": \"Completed\", \"run_type\": \"azureml.scriptrun\", \"training_percent\": \"100\", \"start_time\": \"2021-01-22T09:59:00.982129Z\", \"end_time\": \"2021-01-22T09:59:47.671589Z\", \"created_time\": \"2021-01-22T09:58:47.806633Z\", \"created_time_dt\": \"2021-01-22T09:58:47.806633Z\", \"duration\": \"0:00:59\", \"iteration\": \"27\", \"goal\": \"accuracy_max\", \"run_name\": \"MaxAbsScaler, RandomForest\", \"run_properties\": \"copy=True\", \"primary_metric\": 0.79918251, \"best_metric\": 0.81181917}, {\"run_id\": \"AutoML_025f2b39-b2d8-4bca-bfe4-eaabcae87cef_28\", \"run_number\": 34, \"metric\": null, \"status\": \"Completed\", \"run_type\": \"azureml.scriptrun\", \"training_percent\": \"100\", \"start_time\": \"2021-01-22T10:00:00.351184Z\", \"end_time\": \"2021-01-22T10:00:51.302702Z\", \"created_time\": \"2021-01-22T09:59:49.951994Z\", \"created_time_dt\": \"2021-01-22T09:59:49.951994Z\", \"duration\": \"0:01:01\", \"iteration\": \"28\", \"goal\": \"accuracy_max\", \"run_name\": \"SparseNormalizer, XGBoostClassifier\", \"run_properties\": \"<azureml.automl.runtime.shared.model_wrappers.SparseNormalizer object at 0x7f96ee2bafd0\", \"primary_metric\": 0.79492761, \"best_metric\": 0.81181917}, {\"run_id\": \"AutoML_025f2b39-b2d8-4bca-bfe4-eaabcae87cef_29\", \"run_number\": 35, \"metric\": null, \"status\": \"Completed\", \"run_type\": \"azureml.scriptrun\", \"training_percent\": \"100\", \"start_time\": \"2021-01-22T10:01:08.195188Z\", \"end_time\": \"2021-01-22T10:02:25.634169Z\", \"created_time\": \"2021-01-22T10:00:52.670992Z\", \"created_time_dt\": \"2021-01-22T10:00:52.670992Z\", \"duration\": \"0:01:32\", \"iteration\": \"29\", \"goal\": \"accuracy_max\", \"run_name\": \"VotingEnsemble\", \"run_properties\": \"classification_labels=None,\\n                              estimators=[('26',\\n                                           Pipeline(memory=None,\\n                                                    steps=[('maxabsscaler',\\n                                                            MaxAbsScaler(copy=True\", \"primary_metric\": 0.81181917, \"best_metric\": 0.81181917}], \"children_metrics\": {\"categories\": [0], \"series\": {\"average_precision_score_micro\": [{\"categories\": [\"0\", \"1\", \"2\", \"3\", \"4\", \"5\", \"6\", \"7\", \"8\", \"9\", \"10\", \"11\", \"12\", \"13\", \"14\", \"15\", \"16\", \"17\", \"18\", \"19\", \"20\", \"21\", \"22\", \"23\", \"24\", \"25\", \"26\", \"27\", \"28\", \"29\"], \"mode\": \"markers\", \"name\": \"average_precision_score_micro\", \"stepped\": false, \"type\": \"scatter\", \"data\": [0.8069919629822895, 0.8192025057311971, 0.8228688855850201, 0.8164107676414905, 0.8256534760768528, 0.7525557246315697, 0.8177389175865573, 0.8260317835444282, 0.8110118108561583, 0.8209288264818451, 0.8342078951079767, 0.8191433763509306, 0.8412996665228396, 0.8029242326288422, 0.8278732336566396, 0.8257986135054523, 0.8232628300697566, 0.7961741026401623, 0.8395869152759554, 0.8247945828166927, 0.8077541953215546, 0.8081362291790464, 0.8089292280715348, 0.7942746336787293, 0.8314827694522492, 0.6739014704145799, 0.8343398030602316, 0.8489208095507774, 0.8445661776280566, 0.8368428691009054]}, {\"categories\": [\"0\", \"1\", \"2\", \"3\", \"4\", \"5\", \"6\", \"7\", \"8\", \"9\", \"10\", \"11\", \"12\", \"13\", \"14\", \"15\", \"16\", \"17\", \"18\", \"19\", \"20\", \"21\", \"22\", \"23\", \"24\", \"25\", \"26\", \"27\", \"28\", \"29\"], \"mode\": \"lines\", \"name\": \"average_precision_score_micro_max\", \"stepped\": true, \"type\": \"scatter\", \"data\": [0.8069919629822895, 0.8192025057311971, 0.8228688855850201, 0.8228688855850201, 0.8256534760768528, 0.8256534760768528, 0.8256534760768528, 0.8260317835444282, 0.8260317835444282, 0.8260317835444282, 0.8342078951079767, 0.8342078951079767, 0.8412996665228396, 0.8412996665228396, 0.8412996665228396, 0.8412996665228396, 0.8412996665228396, 0.8412996665228396, 0.8412996665228396, 0.8412996665228396, 0.8412996665228396, 0.8412996665228396, 0.8412996665228396, 0.8412996665228396, 0.8412996665228396, 0.8412996665228396, 0.8412996665228396, 0.8489208095507774, 0.8489208095507774, 0.8489208095507774]}], \"precision_score_macro\": [{\"categories\": [\"0\", \"1\", \"2\", \"3\", \"4\", \"5\", \"6\", \"7\", \"8\", \"9\", \"10\", \"11\", \"12\", \"13\", \"14\", \"15\", \"16\", \"17\", \"18\", \"19\", \"20\", \"21\", \"22\", \"23\", \"24\", \"25\", \"26\", \"27\", \"28\", \"29\"], \"mode\": \"markers\", \"name\": \"precision_score_macro\", \"stepped\": false, \"type\": \"scatter\", \"data\": [0.7651911069665079, 0.7863309383217667, 0.8084091749074365, 0.7799420800073195, 0.7595773535073648, 0.7305884180433283, 0.7739447680868929, 0.7778347847773217, 0.7773401514703815, 0.769404110665778, 0.8163147861842945, 0.8153620086451226, 0.8422089559563244, 0.7672586292744206, 0.8131164273812697, 0.8042821014967119, 0.8176488247811505, 0.7658282075012891, 0.8151496697380415, 0.786769379526644, 0.7699508447138654, 0.7337847196181951, 0.7668056024096241, 0.8239836775598641, 0.7911706003104861, 0.3160001969861125, 0.8308177595072689, 0.8103440571333504, 0.8048011303233127, 0.8308177595072689]}, {\"categories\": [\"0\", \"1\", \"2\", \"3\", \"4\", \"5\", \"6\", \"7\", \"8\", \"9\", \"10\", \"11\", \"12\", \"13\", \"14\", \"15\", \"16\", \"17\", \"18\", \"19\", \"20\", \"21\", \"22\", \"23\", \"24\", \"25\", \"26\", \"27\", \"28\", \"29\"], \"mode\": \"lines\", \"name\": \"precision_score_macro_max\", \"stepped\": true, \"type\": \"scatter\", \"data\": [0.7651911069665079, 0.7863309383217667, 0.8084091749074365, 0.8084091749074365, 0.8084091749074365, 0.8084091749074365, 0.8084091749074365, 0.8084091749074365, 0.8084091749074365, 0.8084091749074365, 0.8163147861842945, 0.8163147861842945, 0.8422089559563244, 0.8422089559563244, 0.8422089559563244, 0.8422089559563244, 0.8422089559563244, 0.8422089559563244, 0.8422089559563244, 0.8422089559563244, 0.8422089559563244, 0.8422089559563244, 0.8422089559563244, 0.8422089559563244, 0.8422089559563244, 0.8422089559563244, 0.8422089559563244, 0.8422089559563244, 0.8422089559563244, 0.8422089559563244]}], \"AUC_macro\": [{\"categories\": [\"0\", \"1\", \"2\", \"3\", \"4\", \"5\", \"6\", \"7\", \"8\", \"9\", \"10\", \"11\", \"12\", \"13\", \"14\", \"15\", \"16\", \"17\", \"18\", \"19\", \"20\", \"21\", \"22\", \"23\", \"24\", \"25\", \"26\", \"27\", \"28\", \"29\"], \"mode\": \"markers\", \"name\": \"AUC_macro\", \"stepped\": false, \"type\": \"scatter\", \"data\": [0.7973868842066952, 0.8044077273765338, 0.8216711774704079, 0.8095750152612633, 0.8143807881726172, 0.7526941198014357, 0.8241052939371947, 0.8254158221543431, 0.7947590323660697, 0.8123020811302745, 0.8224211710642859, 0.821579560084799, 0.8243357359440839, 0.7906661274377129, 0.8261822840352201, 0.8230713882908836, 0.8098912182986293, 0.7922782176016356, 0.8222196107577613, 0.827847684698234, 0.811306318036219, 0.8105945909594346, 0.8061549656407196, 0.8063873279078642, 0.8130206229424024, 0.6627417876041607, 0.8137601482949268, 0.8212978232554846, 0.823766572126036, 0.8244817815937868]}, {\"categories\": [\"0\", \"1\", \"2\", \"3\", \"4\", \"5\", \"6\", \"7\", \"8\", \"9\", \"10\", \"11\", \"12\", \"13\", \"14\", \"15\", \"16\", \"17\", \"18\", \"19\", \"20\", \"21\", \"22\", \"23\", \"24\", \"25\", \"26\", \"27\", \"28\", \"29\"], \"mode\": \"lines\", \"name\": \"AUC_macro_max\", \"stepped\": true, \"type\": \"scatter\", \"data\": [0.7973868842066952, 0.8044077273765338, 0.8216711774704079, 0.8216711774704079, 0.8216711774704079, 0.8216711774704079, 0.8241052939371947, 0.8254158221543431, 0.8254158221543431, 0.8254158221543431, 0.8254158221543431, 0.8254158221543431, 0.8254158221543431, 0.8254158221543431, 0.8261822840352201, 0.8261822840352201, 0.8261822840352201, 0.8261822840352201, 0.8261822840352201, 0.827847684698234, 0.827847684698234, 0.827847684698234, 0.827847684698234, 0.827847684698234, 0.827847684698234, 0.827847684698234, 0.827847684698234, 0.827847684698234, 0.827847684698234, 0.827847684698234]}], \"average_precision_score_weighted\": [{\"categories\": [\"0\", \"1\", \"2\", \"3\", \"4\", \"5\", \"6\", \"7\", \"8\", \"9\", \"10\", \"11\", \"12\", \"13\", \"14\", \"15\", \"16\", \"17\", \"18\", \"19\", \"20\", \"21\", \"22\", \"23\", \"24\", \"25\", \"26\", \"27\", \"28\", \"29\"], \"mode\": \"markers\", \"name\": \"average_precision_score_weighted\", \"stepped\": false, \"type\": \"scatter\", \"data\": [0.7999442399583133, 0.8070691940794109, 0.8253453855880284, 0.8137683947192815, 0.8203569242542154, 0.7507540090818978, 0.8190738925772202, 0.8253833554920261, 0.8027521440193712, 0.8190276995804832, 0.8241886651285478, 0.8231069203494741, 0.8163757068128017, 0.7998596660139186, 0.8220955504830074, 0.8217807912516593, 0.8027511635554783, 0.7879104366646021, 0.8277474800493689, 0.8301978392832456, 0.8125789058944914, 0.8159591682392582, 0.8075159926758582, 0.8094550223940699, 0.8180552415732146, 0.6600686403018846, 0.8148108018252078, 0.8333134482698246, 0.8232043160881206, 0.8305407441150006]}, {\"categories\": [\"0\", \"1\", \"2\", \"3\", \"4\", \"5\", \"6\", \"7\", \"8\", \"9\", \"10\", \"11\", \"12\", \"13\", \"14\", \"15\", \"16\", \"17\", \"18\", \"19\", \"20\", \"21\", \"22\", \"23\", \"24\", \"25\", \"26\", \"27\", \"28\", \"29\"], \"mode\": \"lines\", \"name\": \"average_precision_score_weighted_max\", \"stepped\": true, \"type\": \"scatter\", \"data\": [0.7999442399583133, 0.8070691940794109, 0.8253453855880284, 0.8253453855880284, 0.8253453855880284, 0.8253453855880284, 0.8253453855880284, 0.8253833554920261, 0.8253833554920261, 0.8253833554920261, 0.8253833554920261, 0.8253833554920261, 0.8253833554920261, 0.8253833554920261, 0.8253833554920261, 0.8253833554920261, 0.8253833554920261, 0.8253833554920261, 0.8277474800493689, 0.8301978392832456, 0.8301978392832456, 0.8301978392832456, 0.8301978392832456, 0.8301978392832456, 0.8301978392832456, 0.8301978392832456, 0.8301978392832456, 0.8333134482698246, 0.8333134482698246, 0.8333134482698246]}], \"matthews_correlation\": [{\"categories\": [\"0\", \"1\", \"2\", \"3\", \"4\", \"5\", \"6\", \"7\", \"8\", \"9\", \"10\", \"11\", \"12\", \"13\", \"14\", \"15\", \"16\", \"17\", \"18\", \"19\", \"20\", \"21\", \"22\", \"23\", \"24\", \"25\", \"26\", \"27\", \"28\", \"29\"], \"mode\": \"markers\", \"name\": \"matthews_correlation\", \"stepped\": false, \"type\": \"scatter\", \"data\": [0.4975572860840819, 0.5323375414942749, 0.5619828168733052, 0.4947889338370823, 0.522000104888563, 0.4319984581583796, 0.5309729334757298, 0.5145255815326595, 0.5214803318920583, 0.514117861593691, 0.570117662934769, 0.5386070851166944, 0.5436809581243938, 0.5069324165704401, 0.5368799662299302, 0.5524305130880364, 0.5534081282477658, 0.5065570480088735, 0.5725644287424128, 0.5219837845396105, 0.49711309386598523, 0.4790342253824596, 0.49295318210626177, 0.5318902221567219, 0.531048760672531, 0.0, 0.5883589863304294, 0.5589854880702364, 0.545849399856668, 0.5883589863304294]}, {\"categories\": [\"0\", \"1\", \"2\", \"3\", \"4\", \"5\", \"6\", \"7\", \"8\", \"9\", \"10\", \"11\", \"12\", \"13\", \"14\", \"15\", \"16\", \"17\", \"18\", \"19\", \"20\", \"21\", \"22\", \"23\", \"24\", \"25\", \"26\", \"27\", \"28\", \"29\"], \"mode\": \"lines\", \"name\": \"matthews_correlation_max\", \"stepped\": true, \"type\": \"scatter\", \"data\": [0.4975572860840819, 0.5323375414942749, 0.5619828168733052, 0.5619828168733052, 0.5619828168733052, 0.5619828168733052, 0.5619828168733052, 0.5619828168733052, 0.5619828168733052, 0.5619828168733052, 0.570117662934769, 0.570117662934769, 0.570117662934769, 0.570117662934769, 0.570117662934769, 0.570117662934769, 0.570117662934769, 0.570117662934769, 0.5725644287424128, 0.5725644287424128, 0.5725644287424128, 0.5725644287424128, 0.5725644287424128, 0.5725644287424128, 0.5725644287424128, 0.5725644287424128, 0.5883589863304294, 0.5883589863304294, 0.5883589863304294, 0.5883589863304294]}], \"balanced_accuracy\": [{\"categories\": [\"0\", \"1\", \"2\", \"3\", \"4\", \"5\", \"6\", \"7\", \"8\", \"9\", \"10\", \"11\", \"12\", \"13\", \"14\", \"15\", \"16\", \"17\", \"18\", \"19\", \"20\", \"21\", \"22\", \"23\", \"24\", \"25\", \"26\", \"27\", \"28\", \"29\"], \"mode\": \"markers\", \"name\": \"balanced_accuracy\", \"stepped\": false, \"type\": \"scatter\", \"data\": [0.7336089085645214, 0.7475006463477325, 0.7562285784016989, 0.7194993986952243, 0.7625335610794584, 0.7029075071776265, 0.7573299421911834, 0.7383380036474235, 0.7451715684110688, 0.7455399057914036, 0.7569908164777074, 0.7302120532020714, 0.7165754397725144, 0.7405055264231295, 0.7310125286131529, 0.7508706701166393, 0.7412545565216331, 0.7414349706457134, 0.7601972810006293, 0.7376875524957923, 0.7291291259902423, 0.7454487905378943, 0.7277279928634085, 0.718600687570532, 0.7423241033974215, 0.5, 0.7616429029533232, 0.7519142294248518, 0.7444703751443608, 0.7616429029533232]}, {\"categories\": [\"0\", \"1\", \"2\", \"3\", \"4\", \"5\", \"6\", \"7\", \"8\", \"9\", \"10\", \"11\", \"12\", \"13\", \"14\", \"15\", \"16\", \"17\", \"18\", \"19\", \"20\", \"21\", \"22\", \"23\", \"24\", \"25\", \"26\", \"27\", \"28\", \"29\"], \"mode\": \"lines\", \"name\": \"balanced_accuracy_max\", \"stepped\": true, \"type\": \"scatter\", \"data\": [0.7336089085645214, 0.7475006463477325, 0.7562285784016989, 0.7562285784016989, 0.7625335610794584, 0.7625335610794584, 0.7625335610794584, 0.7625335610794584, 0.7625335610794584, 0.7625335610794584, 0.7625335610794584, 0.7625335610794584, 0.7625335610794584, 0.7625335610794584, 0.7625335610794584, 0.7625335610794584, 0.7625335610794584, 0.7625335610794584, 0.7625335610794584, 0.7625335610794584, 0.7625335610794584, 0.7625335610794584, 0.7625335610794584, 0.7625335610794584, 0.7625335610794584, 0.7625335610794584, 0.7625335610794584, 0.7625335610794584, 0.7625335610794584, 0.7625335610794584]}], \"precision_score_micro\": [{\"categories\": [\"0\", \"1\", \"2\", \"3\", \"4\", \"5\", \"6\", \"7\", \"8\", \"9\", \"10\", \"11\", \"12\", \"13\", \"14\", \"15\", \"16\", \"17\", \"18\", \"19\", \"20\", \"21\", \"22\", \"23\", \"24\", \"25\", \"26\", \"27\", \"28\", \"29\"], \"mode\": \"markers\", \"name\": \"precision_score_micro\", \"stepped\": false, \"type\": \"scatter\", \"data\": [0.7724317935585541, 0.7893529006205063, 0.8005515611149414, 0.768206441445878, 0.7752191470501331, 0.7414852752880922, 0.7879346006106569, 0.7808726484782822, 0.7836206047473653, 0.779444499162809, 0.8047966118388654, 0.7892741061755146, 0.7878952033881611, 0.7766177484487343, 0.7893036540923866, 0.7977543583177387, 0.7963163596966414, 0.7766571456712302, 0.8061853639318428, 0.783699399192357, 0.7724810400866737, 0.7471584753274895, 0.7724120949473062, 0.7850684526740865, 0.787914901999409, 0.632000393972225, 0.8118191667487442, 0.7991825076332117, 0.794927607603664, 0.8118191667487442]}, {\"categories\": [\"0\", \"1\", \"2\", \"3\", \"4\", \"5\", \"6\", \"7\", \"8\", \"9\", \"10\", \"11\", \"12\", \"13\", \"14\", \"15\", \"16\", \"17\", \"18\", \"19\", \"20\", \"21\", \"22\", \"23\", \"24\", \"25\", \"26\", \"27\", \"28\", \"29\"], \"mode\": \"lines\", \"name\": \"precision_score_micro_max\", \"stepped\": true, \"type\": \"scatter\", \"data\": [0.7724317935585541, 0.7893529006205063, 0.8005515611149414, 0.8005515611149414, 0.8005515611149414, 0.8005515611149414, 0.8005515611149414, 0.8005515611149414, 0.8005515611149414, 0.8005515611149414, 0.8047966118388654, 0.8047966118388654, 0.8047966118388654, 0.8047966118388654, 0.8047966118388654, 0.8047966118388654, 0.8047966118388654, 0.8047966118388654, 0.8061853639318428, 0.8061853639318428, 0.8061853639318428, 0.8061853639318428, 0.8061853639318428, 0.8061853639318428, 0.8061853639318428, 0.8061853639318428, 0.8118191667487442, 0.8118191667487442, 0.8118191667487442, 0.8118191667487442]}], \"recall_score_macro\": [{\"categories\": [\"0\", \"1\", \"2\", \"3\", \"4\", \"5\", \"6\", \"7\", \"8\", \"9\", \"10\", \"11\", \"12\", \"13\", \"14\", \"15\", \"16\", \"17\", \"18\", \"19\", \"20\", \"21\", \"22\", \"23\", \"24\", \"25\", \"26\", \"27\", \"28\", \"29\"], \"mode\": \"markers\", \"name\": \"recall_score_macro\", \"stepped\": false, \"type\": \"scatter\", \"data\": [0.7336089085645214, 0.7475006463477325, 0.7562285784016989, 0.7194993986952243, 0.7625335610794584, 0.7029075071776265, 0.7573299421911834, 0.7383380036474235, 0.7451715684110688, 0.7455399057914036, 0.7569908164777074, 0.7302120532020714, 0.7165754397725144, 0.7405055264231295, 0.7310125286131529, 0.7508706701166393, 0.7412545565216331, 0.7414349706457134, 0.7601972810006293, 0.7376875524957923, 0.7291291259902423, 0.7454487905378943, 0.7277279928634085, 0.718600687570532, 0.7423241033974215, 0.5, 0.7616429029533232, 0.7519142294248518, 0.7444703751443608, 0.7616429029533232]}, {\"categories\": [\"0\", \"1\", \"2\", \"3\", \"4\", \"5\", \"6\", \"7\", \"8\", \"9\", \"10\", \"11\", \"12\", \"13\", \"14\", \"15\", \"16\", \"17\", \"18\", \"19\", \"20\", \"21\", \"22\", \"23\", \"24\", \"25\", \"26\", \"27\", \"28\", \"29\"], \"mode\": \"lines\", \"name\": \"recall_score_macro_max\", \"stepped\": true, \"type\": \"scatter\", \"data\": [0.7336089085645214, 0.7475006463477325, 0.7562285784016989, 0.7562285784016989, 0.7625335610794584, 0.7625335610794584, 0.7625335610794584, 0.7625335610794584, 0.7625335610794584, 0.7625335610794584, 0.7625335610794584, 0.7625335610794584, 0.7625335610794584, 0.7625335610794584, 0.7625335610794584, 0.7625335610794584, 0.7625335610794584, 0.7625335610794584, 0.7625335610794584, 0.7625335610794584, 0.7625335610794584, 0.7625335610794584, 0.7625335610794584, 0.7625335610794584, 0.7625335610794584, 0.7625335610794584, 0.7625335610794584, 0.7625335610794584, 0.7625335610794584, 0.7625335610794584]}], \"f1_score_weighted\": [{\"categories\": [\"0\", \"1\", \"2\", \"3\", \"4\", \"5\", \"6\", \"7\", \"8\", \"9\", \"10\", \"11\", \"12\", \"13\", \"14\", \"15\", \"16\", \"17\", \"18\", \"19\", \"20\", \"21\", \"22\", \"23\", \"24\", \"25\", \"26\", \"27\", \"28\", \"29\"], \"mode\": \"markers\", \"name\": \"f1_score_weighted\", \"stepped\": false, \"type\": \"scatter\", \"data\": [0.7651152473808697, 0.7819869585881898, 0.7920977619533337, 0.7559575511946254, 0.7760084617127073, 0.734236327062131, 0.7846336480895565, 0.772484131393057, 0.7771033931491367, 0.774671389706885, 0.7948224180296968, 0.7733349432291428, 0.7652282710664879, 0.7712395843220321, 0.7733703554918563, 0.7882854541014384, 0.7827812756893326, 0.7715413280834756, 0.7970032349412497, 0.7738599357374276, 0.7631695707046657, 0.7502696235754588, 0.7637419435022244, 0.7649550440719419, 0.7783094752044771, 0.4902719728383708, 0.8010558782992702, 0.7891668861700537, 0.7838447360440804, 0.8010558782992702]}, {\"categories\": [\"0\", \"1\", \"2\", \"3\", \"4\", \"5\", \"6\", \"7\", \"8\", \"9\", \"10\", \"11\", \"12\", \"13\", \"14\", \"15\", \"16\", \"17\", \"18\", \"19\", \"20\", \"21\", \"22\", \"23\", \"24\", \"25\", \"26\", \"27\", \"28\", \"29\"], \"mode\": \"lines\", \"name\": \"f1_score_weighted_max\", \"stepped\": true, \"type\": \"scatter\", \"data\": [0.7651152473808697, 0.7819869585881898, 0.7920977619533337, 0.7920977619533337, 0.7920977619533337, 0.7920977619533337, 0.7920977619533337, 0.7920977619533337, 0.7920977619533337, 0.7920977619533337, 0.7948224180296968, 0.7948224180296968, 0.7948224180296968, 0.7948224180296968, 0.7948224180296968, 0.7948224180296968, 0.7948224180296968, 0.7948224180296968, 0.7970032349412497, 0.7970032349412497, 0.7970032349412497, 0.7970032349412497, 0.7970032349412497, 0.7970032349412497, 0.7970032349412497, 0.7970032349412497, 0.8010558782992702, 0.8010558782992702, 0.8010558782992702, 0.8010558782992702]}], \"recall_score_micro\": [{\"categories\": [\"0\", \"1\", \"2\", \"3\", \"4\", \"5\", \"6\", \"7\", \"8\", \"9\", \"10\", \"11\", \"12\", \"13\", \"14\", \"15\", \"16\", \"17\", \"18\", \"19\", \"20\", \"21\", \"22\", \"23\", \"24\", \"25\", \"26\", \"27\", \"28\", \"29\"], \"mode\": \"markers\", \"name\": \"recall_score_micro\", \"stepped\": false, \"type\": \"scatter\", \"data\": [0.7724317935585541, 0.7893529006205063, 0.8005515611149414, 0.768206441445878, 0.7752191470501331, 0.7414852752880922, 0.7879346006106569, 0.7808726484782822, 0.7836206047473653, 0.779444499162809, 0.8047966118388654, 0.7892741061755146, 0.7878952033881611, 0.7766177484487343, 0.7893036540923866, 0.7977543583177387, 0.7963163596966414, 0.7766571456712302, 0.8061853639318428, 0.783699399192357, 0.7724810400866737, 0.7471584753274895, 0.7724120949473062, 0.7850684526740865, 0.787914901999409, 0.632000393972225, 0.8118191667487442, 0.7991825076332117, 0.794927607603664, 0.8118191667487442]}, {\"categories\": [\"0\", \"1\", \"2\", \"3\", \"4\", \"5\", \"6\", \"7\", \"8\", \"9\", \"10\", \"11\", \"12\", \"13\", \"14\", \"15\", \"16\", \"17\", \"18\", \"19\", \"20\", \"21\", \"22\", \"23\", \"24\", \"25\", \"26\", \"27\", \"28\", \"29\"], \"mode\": \"lines\", \"name\": \"recall_score_micro_max\", \"stepped\": true, \"type\": \"scatter\", \"data\": [0.7724317935585541, 0.7893529006205063, 0.8005515611149414, 0.8005515611149414, 0.8005515611149414, 0.8005515611149414, 0.8005515611149414, 0.8005515611149414, 0.8005515611149414, 0.8005515611149414, 0.8047966118388654, 0.8047966118388654, 0.8047966118388654, 0.8047966118388654, 0.8047966118388654, 0.8047966118388654, 0.8047966118388654, 0.8047966118388654, 0.8061853639318428, 0.8061853639318428, 0.8061853639318428, 0.8061853639318428, 0.8061853639318428, 0.8061853639318428, 0.8061853639318428, 0.8061853639318428, 0.8118191667487442, 0.8118191667487442, 0.8118191667487442, 0.8118191667487442]}], \"f1_score_micro\": [{\"categories\": [\"0\", \"1\", \"2\", \"3\", \"4\", \"5\", \"6\", \"7\", \"8\", \"9\", \"10\", \"11\", \"12\", \"13\", \"14\", \"15\", \"16\", \"17\", \"18\", \"19\", \"20\", \"21\", \"22\", \"23\", \"24\", \"25\", \"26\", \"27\", \"28\", \"29\"], \"mode\": \"markers\", \"name\": \"f1_score_micro\", \"stepped\": false, \"type\": \"scatter\", \"data\": [0.7724317935585541, 0.7893529006205063, 0.8005515611149414, 0.768206441445878, 0.7752191470501331, 0.7414852752880922, 0.7879346006106569, 0.7808726484782822, 0.7836206047473653, 0.779444499162809, 0.8047966118388654, 0.7892741061755146, 0.7878952033881611, 0.7766177484487343, 0.7893036540923866, 0.7977543583177387, 0.7963163596966414, 0.7766571456712302, 0.8061853639318428, 0.783699399192357, 0.7724810400866737, 0.7471584753274895, 0.7724120949473063, 0.7850684526740865, 0.787914901999409, 0.632000393972225, 0.8118191667487442, 0.7991825076332117, 0.794927607603664, 0.8118191667487442]}, {\"categories\": [\"0\", \"1\", \"2\", \"3\", \"4\", \"5\", \"6\", \"7\", \"8\", \"9\", \"10\", \"11\", \"12\", \"13\", \"14\", \"15\", \"16\", \"17\", \"18\", \"19\", \"20\", \"21\", \"22\", \"23\", \"24\", \"25\", \"26\", \"27\", \"28\", \"29\"], \"mode\": \"lines\", \"name\": \"f1_score_micro_max\", \"stepped\": true, \"type\": \"scatter\", \"data\": [0.7724317935585541, 0.7893529006205063, 0.8005515611149414, 0.8005515611149414, 0.8005515611149414, 0.8005515611149414, 0.8005515611149414, 0.8005515611149414, 0.8005515611149414, 0.8005515611149414, 0.8047966118388654, 0.8047966118388654, 0.8047966118388654, 0.8047966118388654, 0.8047966118388654, 0.8047966118388654, 0.8047966118388654, 0.8047966118388654, 0.8061853639318428, 0.8061853639318428, 0.8061853639318428, 0.8061853639318428, 0.8061853639318428, 0.8061853639318428, 0.8061853639318428, 0.8061853639318428, 0.8118191667487442, 0.8118191667487442, 0.8118191667487442, 0.8118191667487442]}], \"AUC_weighted\": [{\"categories\": [\"0\", \"1\", \"2\", \"3\", \"4\", \"5\", \"6\", \"7\", \"8\", \"9\", \"10\", \"11\", \"12\", \"13\", \"14\", \"15\", \"16\", \"17\", \"18\", \"19\", \"20\", \"21\", \"22\", \"23\", \"24\", \"25\", \"26\", \"27\", \"28\", \"29\"], \"mode\": \"markers\", \"name\": \"AUC_weighted\", \"stepped\": false, \"type\": \"scatter\", \"data\": [0.7973868842066952, 0.8044077273765338, 0.8216711774704077, 0.8095750152612633, 0.8143807881726172, 0.7526941198014356, 0.8241052939371947, 0.8254158221543431, 0.7947590323660697, 0.8123020811302745, 0.8224211710642857, 0.821579560084799, 0.8243357359440837, 0.7906661274377129, 0.8261822840352201, 0.8230713882908833, 0.8098912182986293, 0.7922782176016355, 0.8222196107577613, 0.827847684698234, 0.811306318036219, 0.8105945909594346, 0.8061549656407196, 0.8063873279078642, 0.8130206229424024, 0.6627417876041608, 0.8137601482949268, 0.8212978232554848, 0.8237665721260361, 0.8244817815937868]}, {\"categories\": [\"0\", \"1\", \"2\", \"3\", \"4\", \"5\", \"6\", \"7\", \"8\", \"9\", \"10\", \"11\", \"12\", \"13\", \"14\", \"15\", \"16\", \"17\", \"18\", \"19\", \"20\", \"21\", \"22\", \"23\", \"24\", \"25\", \"26\", \"27\", \"28\", \"29\"], \"mode\": \"lines\", \"name\": \"AUC_weighted_max\", \"stepped\": true, \"type\": \"scatter\", \"data\": [0.7973868842066952, 0.8044077273765338, 0.8216711774704077, 0.8216711774704077, 0.8216711774704077, 0.8216711774704077, 0.8241052939371947, 0.8254158221543431, 0.8254158221543431, 0.8254158221543431, 0.8254158221543431, 0.8254158221543431, 0.8254158221543431, 0.8254158221543431, 0.8261822840352201, 0.8261822840352201, 0.8261822840352201, 0.8261822840352201, 0.8261822840352201, 0.827847684698234, 0.827847684698234, 0.827847684698234, 0.827847684698234, 0.827847684698234, 0.827847684698234, 0.827847684698234, 0.827847684698234, 0.827847684698234, 0.827847684698234, 0.827847684698234]}], \"norm_macro_recall\": [{\"categories\": [\"0\", \"1\", \"2\", \"3\", \"4\", \"5\", \"6\", \"7\", \"8\", \"9\", \"10\", \"11\", \"12\", \"13\", \"14\", \"15\", \"16\", \"17\", \"18\", \"19\", \"20\", \"21\", \"22\", \"23\", \"24\", \"25\", \"26\", \"27\", \"28\", \"29\"], \"mode\": \"markers\", \"name\": \"norm_macro_recall\", \"stepped\": false, \"type\": \"scatter\", \"data\": [0.467217817129043, 0.495001292695465, 0.5124571568033975, 0.43899879739044856, 0.5250671221589167, 0.40581501435525275, 0.5146598843823667, 0.47667600729484694, 0.49034313682213754, 0.49107981158280734, 0.5139816329554144, 0.4604241064041427, 0.43315087954502873, 0.48101105284625917, 0.46202505722630605, 0.5017413402332787, 0.48250911304326605, 0.4828699412914267, 0.5203945620012587, 0.4753751049915847, 0.4582582519804845, 0.49089758107578857, 0.45545598572681706, 0.43720137514106394, 0.4846482067948429, 0.0, 0.5232858059066462, 0.5038284588497036, 0.48894075028872147, 0.5232858059066462]}, {\"categories\": [\"0\", \"1\", \"2\", \"3\", \"4\", \"5\", \"6\", \"7\", \"8\", \"9\", \"10\", \"11\", \"12\", \"13\", \"14\", \"15\", \"16\", \"17\", \"18\", \"19\", \"20\", \"21\", \"22\", \"23\", \"24\", \"25\", \"26\", \"27\", \"28\", \"29\"], \"mode\": \"lines\", \"name\": \"norm_macro_recall_max\", \"stepped\": true, \"type\": \"scatter\", \"data\": [0.467217817129043, 0.495001292695465, 0.5124571568033975, 0.5124571568033975, 0.5250671221589167, 0.5250671221589167, 0.5250671221589167, 0.5250671221589167, 0.5250671221589167, 0.5250671221589167, 0.5250671221589167, 0.5250671221589167, 0.5250671221589167, 0.5250671221589167, 0.5250671221589167, 0.5250671221589167, 0.5250671221589167, 0.5250671221589167, 0.5250671221589167, 0.5250671221589167, 0.5250671221589167, 0.5250671221589167, 0.5250671221589167, 0.5250671221589167, 0.5250671221589167, 0.5250671221589167, 0.5250671221589167, 0.5250671221589167, 0.5250671221589167, 0.5250671221589167]}], \"precision_score_weighted\": [{\"categories\": [\"0\", \"1\", \"2\", \"3\", \"4\", \"5\", \"6\", \"7\", \"8\", \"9\", \"10\", \"11\", \"12\", \"13\", \"14\", \"15\", \"16\", \"17\", \"18\", \"19\", \"20\", \"21\", \"22\", \"23\", \"24\", \"25\", \"26\", \"27\", \"28\", \"29\"], \"mode\": \"markers\", \"name\": \"precision_score_weighted\", \"stepped\": false, \"type\": \"scatter\", \"data\": [0.7737349196093294, 0.7905408916935619, 0.8073286752808893, 0.7825816617929208, 0.7795016141589802, 0.7438648010792507, 0.7856011921825375, 0.7828120053750542, 0.7837053621306319, 0.7799797591283228, 0.8124628481290795, 0.805775116461857, 0.8207600282399123, 0.7762941725541408, 0.8037191080156116, 0.8024886368936948, 0.8091632058013285, 0.7763157705560862, 0.812060344755867, 0.7892907623461827, 0.7745159331955623, 0.7612929040791754, 0.7717755484747083, 0.8085114007933912, 0.7931881421283384, 0.40113683910084896, 0.8229100567400488, 0.8083324834704756, 0.801235354674458, 0.8229100567400488]}, {\"categories\": [\"0\", \"1\", \"2\", \"3\", \"4\", \"5\", \"6\", \"7\", \"8\", \"9\", \"10\", \"11\", \"12\", \"13\", \"14\", \"15\", \"16\", \"17\", \"18\", \"19\", \"20\", \"21\", \"22\", \"23\", \"24\", \"25\", \"26\", \"27\", \"28\", \"29\"], \"mode\": \"lines\", \"name\": \"precision_score_weighted_max\", \"stepped\": true, \"type\": \"scatter\", \"data\": [0.7737349196093294, 0.7905408916935619, 0.8073286752808893, 0.8073286752808893, 0.8073286752808893, 0.8073286752808893, 0.8073286752808893, 0.8073286752808893, 0.8073286752808893, 0.8073286752808893, 0.8124628481290795, 0.8124628481290795, 0.8207600282399123, 0.8207600282399123, 0.8207600282399123, 0.8207600282399123, 0.8207600282399123, 0.8207600282399123, 0.8207600282399123, 0.8207600282399123, 0.8207600282399123, 0.8207600282399123, 0.8207600282399123, 0.8207600282399123, 0.8207600282399123, 0.8207600282399123, 0.8229100567400488, 0.8229100567400488, 0.8229100567400488, 0.8229100567400488]}], \"average_precision_score_macro\": [{\"categories\": [\"0\", \"1\", \"2\", \"3\", \"4\", \"5\", \"6\", \"7\", \"8\", \"9\", \"10\", \"11\", \"12\", \"13\", \"14\", \"15\", \"16\", \"17\", \"18\", \"19\", \"20\", \"21\", \"22\", \"23\", \"24\", \"25\", \"26\", \"27\", \"28\", \"29\"], \"mode\": \"markers\", \"name\": \"average_precision_score_macro\", \"stepped\": false, \"type\": \"scatter\", \"data\": [0.7853580062177852, 0.7950714634876536, 0.8134946771894256, 0.799614237678273, 0.8072388502273409, 0.7310402040538168, 0.8094809441843257, 0.8105956175784496, 0.7916174537122169, 0.8089980729716041, 0.8118558604739292, 0.8114070277432719, 0.8014556393620472, 0.7862461622554949, 0.8098414718417392, 0.8096489473268937, 0.7882623973540615, 0.7749869236792494, 0.8172405763061675, 0.8180691280624728, 0.8000465281034688, 0.8039202365779381, 0.7953231654555009, 0.7965203475633429, 0.8079664067105801, 0.6295794924004701, 0.8027388238756943, 0.8218554673954724, 0.8120491997482716, 0.8187496568153015]}, {\"categories\": [\"0\", \"1\", \"2\", \"3\", \"4\", \"5\", \"6\", \"7\", \"8\", \"9\", \"10\", \"11\", \"12\", \"13\", \"14\", \"15\", \"16\", \"17\", \"18\", \"19\", \"20\", \"21\", \"22\", \"23\", \"24\", \"25\", \"26\", \"27\", \"28\", \"29\"], \"mode\": \"lines\", \"name\": \"average_precision_score_macro_max\", \"stepped\": true, \"type\": \"scatter\", \"data\": [0.7853580062177852, 0.7950714634876536, 0.8134946771894256, 0.8134946771894256, 0.8134946771894256, 0.8134946771894256, 0.8134946771894256, 0.8134946771894256, 0.8134946771894256, 0.8134946771894256, 0.8134946771894256, 0.8134946771894256, 0.8134946771894256, 0.8134946771894256, 0.8134946771894256, 0.8134946771894256, 0.8134946771894256, 0.8134946771894256, 0.8172405763061675, 0.8180691280624728, 0.8180691280624728, 0.8180691280624728, 0.8180691280624728, 0.8180691280624728, 0.8180691280624728, 0.8180691280624728, 0.8180691280624728, 0.8218554673954724, 0.8218554673954724, 0.8218554673954724]}], \"AUC_micro\": [{\"categories\": [\"0\", \"1\", \"2\", \"3\", \"4\", \"5\", \"6\", \"7\", \"8\", \"9\", \"10\", \"11\", \"12\", \"13\", \"14\", \"15\", \"16\", \"17\", \"18\", \"19\", \"20\", \"21\", \"22\", \"23\", \"24\", \"25\", \"26\", \"27\", \"28\", \"29\"], \"mode\": \"markers\", \"name\": \"AUC_micro\", \"stepped\": false, \"type\": \"scatter\", \"data\": [0.8272448745850072, 0.8419519769665358, 0.8452508152888114, 0.8391170697507686, 0.8385498397710149, 0.7837407344085797, 0.8501459017522404, 0.8454045713602663, 0.8316367011106511, 0.8456406840406295, 0.8572421382571855, 0.8435720368929592, 0.8613861373172087, 0.8235500496495998, 0.8548654599694118, 0.8524908891982802, 0.8493632435555171, 0.8277788232634021, 0.856952008639916, 0.8465160150068378, 0.8314645924253435, 0.8162613845065989, 0.8359547771649656, 0.8174053134971506, 0.8500718748057702, 0.7064357417593747, 0.8547343743744447, 0.8582453409161118, 0.8604748636126305, 0.8568578334463114]}, {\"categories\": [\"0\", \"1\", \"2\", \"3\", \"4\", \"5\", \"6\", \"7\", \"8\", \"9\", \"10\", \"11\", \"12\", \"13\", \"14\", \"15\", \"16\", \"17\", \"18\", \"19\", \"20\", \"21\", \"22\", \"23\", \"24\", \"25\", \"26\", \"27\", \"28\", \"29\"], \"mode\": \"lines\", \"name\": \"AUC_micro_max\", \"stepped\": true, \"type\": \"scatter\", \"data\": [0.8272448745850072, 0.8419519769665358, 0.8452508152888114, 0.8452508152888114, 0.8452508152888114, 0.8452508152888114, 0.8501459017522404, 0.8501459017522404, 0.8501459017522404, 0.8501459017522404, 0.8572421382571855, 0.8572421382571855, 0.8613861373172087, 0.8613861373172087, 0.8613861373172087, 0.8613861373172087, 0.8613861373172087, 0.8613861373172087, 0.8613861373172087, 0.8613861373172087, 0.8613861373172087, 0.8613861373172087, 0.8613861373172087, 0.8613861373172087, 0.8613861373172087, 0.8613861373172087, 0.8613861373172087, 0.8613861373172087, 0.8613861373172087, 0.8613861373172087]}], \"recall_score_weighted\": [{\"categories\": [\"0\", \"1\", \"2\", \"3\", \"4\", \"5\", \"6\", \"7\", \"8\", \"9\", \"10\", \"11\", \"12\", \"13\", \"14\", \"15\", \"16\", \"17\", \"18\", \"19\", \"20\", \"21\", \"22\", \"23\", \"24\", \"25\", \"26\", \"27\", \"28\", \"29\"], \"mode\": \"markers\", \"name\": \"recall_score_weighted\", \"stepped\": false, \"type\": \"scatter\", \"data\": [0.7724317935585541, 0.7893529006205063, 0.8005515611149414, 0.768206441445878, 0.7752191470501331, 0.7414852752880922, 0.7879346006106569, 0.7808726484782822, 0.7836206047473653, 0.779444499162809, 0.8047966118388654, 0.7892741061755146, 0.7878952033881611, 0.7766177484487343, 0.7893036540923866, 0.7977543583177387, 0.7963163596966414, 0.7766571456712302, 0.8061853639318428, 0.783699399192357, 0.7724810400866737, 0.7471584753274895, 0.7724120949473062, 0.7850684526740865, 0.787914901999409, 0.632000393972225, 0.8118191667487442, 0.7991825076332117, 0.794927607603664, 0.8118191667487442]}, {\"categories\": [\"0\", \"1\", \"2\", \"3\", \"4\", \"5\", \"6\", \"7\", \"8\", \"9\", \"10\", \"11\", \"12\", \"13\", \"14\", \"15\", \"16\", \"17\", \"18\", \"19\", \"20\", \"21\", \"22\", \"23\", \"24\", \"25\", \"26\", \"27\", \"28\", \"29\"], \"mode\": \"lines\", \"name\": \"recall_score_weighted_max\", \"stepped\": true, \"type\": \"scatter\", \"data\": [0.7724317935585541, 0.7893529006205063, 0.8005515611149414, 0.8005515611149414, 0.8005515611149414, 0.8005515611149414, 0.8005515611149414, 0.8005515611149414, 0.8005515611149414, 0.8005515611149414, 0.8047966118388654, 0.8047966118388654, 0.8047966118388654, 0.8047966118388654, 0.8047966118388654, 0.8047966118388654, 0.8047966118388654, 0.8047966118388654, 0.8061853639318428, 0.8061853639318428, 0.8061853639318428, 0.8061853639318428, 0.8061853639318428, 0.8061853639318428, 0.8061853639318428, 0.8061853639318428, 0.8118191667487442, 0.8118191667487442, 0.8118191667487442, 0.8118191667487442]}], \"f1_score_macro\": [{\"categories\": [\"0\", \"1\", \"2\", \"3\", \"4\", \"5\", \"6\", \"7\", \"8\", \"9\", \"10\", \"11\", \"12\", \"13\", \"14\", \"15\", \"16\", \"17\", \"18\", \"19\", \"20\", \"21\", \"22\", \"23\", \"24\", \"25\", \"26\", \"27\", \"28\", \"29\"], \"mode\": \"markers\", \"name\": \"f1_score_macro\", \"stepped\": false, \"type\": \"scatter\", \"data\": [0.7404939286579844, 0.7577408232164133, 0.7684990927611899, 0.7275730938568798, 0.7595553892468382, 0.7074238648879039, 0.7632085877905752, 0.7474838892061112, 0.7538462989056638, 0.7518047566377546, 0.7704563389983425, 0.7438481997630954, 0.730626624683886, 0.7479603744492077, 0.7439506002562715, 0.763606246095747, 0.7555657018017424, 0.7481169195223881, 0.7733882620198955, 0.7478058695313182, 0.7376867119354287, 0.7352863821686414, 0.737560381881998, 0.7323169090177831, 0.7526808381230286, 0.3868644075530395, 0.7768949384170218, 0.7642174220952874, 0.7577449215686194, 0.7768949384170218]}, {\"categories\": [\"0\", \"1\", \"2\", \"3\", \"4\", \"5\", \"6\", \"7\", \"8\", \"9\", \"10\", \"11\", \"12\", \"13\", \"14\", \"15\", \"16\", \"17\", \"18\", \"19\", \"20\", \"21\", \"22\", \"23\", \"24\", \"25\", \"26\", \"27\", \"28\", \"29\"], \"mode\": \"lines\", \"name\": \"f1_score_macro_max\", \"stepped\": true, \"type\": \"scatter\", \"data\": [0.7404939286579844, 0.7577408232164133, 0.7684990927611899, 0.7684990927611899, 0.7684990927611899, 0.7684990927611899, 0.7684990927611899, 0.7684990927611899, 0.7684990927611899, 0.7684990927611899, 0.7704563389983425, 0.7704563389983425, 0.7704563389983425, 0.7704563389983425, 0.7704563389983425, 0.7704563389983425, 0.7704563389983425, 0.7704563389983425, 0.7733882620198955, 0.7733882620198955, 0.7733882620198955, 0.7733882620198955, 0.7733882620198955, 0.7733882620198955, 0.7733882620198955, 0.7733882620198955, 0.7768949384170218, 0.7768949384170218, 0.7768949384170218, 0.7768949384170218]}], \"accuracy\": [{\"categories\": [\"0\", \"1\", \"2\", \"3\", \"4\", \"5\", \"6\", \"7\", \"8\", \"9\", \"10\", \"11\", \"12\", \"13\", \"14\", \"15\", \"16\", \"17\", \"18\", \"19\", \"20\", \"21\", \"22\", \"23\", \"24\", \"25\", \"26\", \"27\", \"28\", \"29\"], \"mode\": \"markers\", \"name\": \"accuracy\", \"stepped\": false, \"type\": \"scatter\", \"data\": [0.7724317935585541, 0.7893529006205063, 0.8005515611149414, 0.768206441445878, 0.7752191470501331, 0.7414852752880922, 0.7879346006106569, 0.7808726484782822, 0.7836206047473653, 0.779444499162809, 0.8047966118388654, 0.7892741061755146, 0.7878952033881611, 0.7766177484487343, 0.7893036540923866, 0.7977543583177387, 0.7963163596966414, 0.7766571456712302, 0.8061853639318428, 0.783699399192357, 0.7724810400866737, 0.7471584753274895, 0.7724120949473062, 0.7850684526740865, 0.787914901999409, 0.632000393972225, 0.8118191667487442, 0.7991825076332117, 0.794927607603664, 0.8118191667487442]}, {\"categories\": [\"0\", \"1\", \"2\", \"3\", \"4\", \"5\", \"6\", \"7\", \"8\", \"9\", \"10\", \"11\", \"12\", \"13\", \"14\", \"15\", \"16\", \"17\", \"18\", \"19\", \"20\", \"21\", \"22\", \"23\", \"24\", \"25\", \"26\", \"27\", \"28\", \"29\"], \"mode\": \"lines\", \"name\": \"accuracy_max\", \"stepped\": true, \"type\": \"scatter\", \"data\": [0.7724317935585541, 0.7893529006205063, 0.8005515611149414, 0.8005515611149414, 0.8005515611149414, 0.8005515611149414, 0.8005515611149414, 0.8005515611149414, 0.8005515611149414, 0.8005515611149414, 0.8047966118388654, 0.8047966118388654, 0.8047966118388654, 0.8047966118388654, 0.8047966118388654, 0.8047966118388654, 0.8047966118388654, 0.8047966118388654, 0.8061853639318428, 0.8061853639318428, 0.8061853639318428, 0.8061853639318428, 0.8061853639318428, 0.8061853639318428, 0.8061853639318428, 0.8061853639318428, 0.8118191667487442, 0.8118191667487442, 0.8118191667487442, 0.8118191667487442]}], \"log_loss\": [{\"categories\": [\"0\", \"1\", \"2\", \"3\", \"4\", \"5\", \"6\", \"7\", \"8\", \"9\", \"10\", \"11\", \"12\", \"13\", \"14\", \"15\", \"16\", \"17\", \"18\", \"19\", \"20\", \"21\", \"22\", \"23\", \"24\", \"25\", \"26\", \"27\", \"28\", \"29\"], \"mode\": \"markers\", \"name\": \"log_loss\", \"stepped\": false, \"type\": \"scatter\", \"data\": [0.5810981008180156, 0.5056636306492025, 0.49780334279006244, 0.5126413411630755, 0.5122487509248187, 0.566607237948339, 0.4853187347025809, 0.5080923060856157, 0.5055976523216522, 0.4851967672219725, 0.47313631585211596, 0.5092306489606248, 0.47061211097081757, 0.5400747738283693, 0.47453163856836744, 0.5178044260128756, 0.5160676619218851, 0.5252780680144131, 0.48476769695960664, 0.5127886483134156, 0.519961985534863, 0.6139062524075589, 0.5427131420024907, 0.5474924368585878, 0.4896859130965283, 0.658999095828528, 0.4744824798082622, 0.47189450128706384, 0.5088156548074595, 0.4704044022209045]}, {\"categories\": [\"0\", \"1\", \"2\", \"3\", \"4\", \"5\", \"6\", \"7\", \"8\", \"9\", \"10\", \"11\", \"12\", \"13\", \"14\", \"15\", \"16\", \"17\", \"18\", \"19\", \"20\", \"21\", \"22\", \"23\", \"24\", \"25\", \"26\", \"27\", \"28\", \"29\"], \"mode\": \"lines\", \"name\": \"log_loss_min\", \"stepped\": true, \"type\": \"scatter\", \"data\": [0.5810981008180156, 0.5056636306492025, 0.49780334279006244, 0.49780334279006244, 0.49780334279006244, 0.49780334279006244, 0.4853187347025809, 0.4853187347025809, 0.4853187347025809, 0.4851967672219725, 0.47313631585211596, 0.47313631585211596, 0.47061211097081757, 0.47061211097081757, 0.47061211097081757, 0.47061211097081757, 0.47061211097081757, 0.47061211097081757, 0.47061211097081757, 0.47061211097081757, 0.47061211097081757, 0.47061211097081757, 0.47061211097081757, 0.47061211097081757, 0.47061211097081757, 0.47061211097081757, 0.47061211097081757, 0.47061211097081757, 0.47061211097081757, 0.4704044022209045]}], \"weighted_accuracy\": [{\"categories\": [\"0\", \"1\", \"2\", \"3\", \"4\", \"5\", \"6\", \"7\", \"8\", \"9\", \"10\", \"11\", \"12\", \"13\", \"14\", \"15\", \"16\", \"17\", \"18\", \"19\", \"20\", \"21\", \"22\", \"23\", \"24\", \"25\", \"26\", \"27\", \"28\", \"29\"], \"mode\": \"markers\", \"name\": \"weighted_accuracy\", \"stepped\": false, \"type\": \"scatter\", \"data\": [0.805442913935942, 0.8242520490554108, 0.8375214763857995, 0.8098453256696925, 0.7860076611812294, 0.7741355782997793, 0.813155118179394, 0.8166685554015926, 0.8160232604487719, 0.8075609858800823, 0.8447691659131618, 0.8388140028861505, 0.847123830055779, 0.8068956225012996, 0.8381376899145201, 0.8369551507637809, 0.8424671052685243, 0.8061643506992666, 0.8444848210779623, 0.8225776051300169, 0.8089676371028464, 0.7483531716736938, 0.8096569966463052, 0.8405215595174266, 0.8264682728309201, 0.7424486098790701, 0.853760604280863, 0.8390486408558498, 0.8370836031660323, 0.853760604280863]}, {\"categories\": [\"0\", \"1\", \"2\", \"3\", \"4\", \"5\", \"6\", \"7\", \"8\", \"9\", \"10\", \"11\", \"12\", \"13\", \"14\", \"15\", \"16\", \"17\", \"18\", \"19\", \"20\", \"21\", \"22\", \"23\", \"24\", \"25\", \"26\", \"27\", \"28\", \"29\"], \"mode\": \"lines\", \"name\": \"weighted_accuracy_max\", \"stepped\": true, \"type\": \"scatter\", \"data\": [0.805442913935942, 0.8242520490554108, 0.8375214763857995, 0.8375214763857995, 0.8375214763857995, 0.8375214763857995, 0.8375214763857995, 0.8375214763857995, 0.8375214763857995, 0.8375214763857995, 0.8447691659131618, 0.8447691659131618, 0.847123830055779, 0.847123830055779, 0.847123830055779, 0.847123830055779, 0.847123830055779, 0.847123830055779, 0.847123830055779, 0.847123830055779, 0.847123830055779, 0.847123830055779, 0.847123830055779, 0.847123830055779, 0.847123830055779, 0.847123830055779, 0.853760604280863, 0.853760604280863, 0.853760604280863, 0.853760604280863]}]}, \"metricName\": null, \"primaryMetricName\": \"accuracy\", \"showLegend\": false}, \"run_metrics\": [{\"name\": \"experiment_status\", \"run_id\": \"AutoML_025f2b39-b2d8-4bca-bfe4-eaabcae87cef\", \"categories\": [0, 1, 2, 3, 4, 5, 6, 7, 8, 9, 10, 11, 12, 13], \"series\": [{\"data\": [\"DatasetEvaluation\", \"FeaturesGeneration\", \"DatasetFeaturization\", \"DatasetFeaturizationCompleted\", \"DatasetCrossValidationSplit\", \"ModelSelection\", \"BestRunExplainModel\", \"ModelExplanationDataSetSetup\", \"PickSurrogateModel\", \"EngineeredFeatureExplanations\", \"EngineeredFeatureExplanations\", \"RawFeaturesExplanations\", \"RawFeaturesExplanations\", \"BestRunExplainModel\"]}]}, {\"name\": \"experiment_status_description\", \"run_id\": \"AutoML_025f2b39-b2d8-4bca-bfe4-eaabcae87cef\", \"categories\": [0, 1, 2, 3, 4, 5, 6, 7, 8, 9, 10, 11, 12, 13], \"series\": [{\"data\": [\"Gathering dataset statistics.\", \"Generating features for the dataset.\", \"Beginning to fit featurizers and featurize the dataset.\", \"Completed fit featurizers and featurizing the dataset.\", \"Generating individually featurized CV splits.\", \"Beginning model selection.\", \"Best run model explanations started\", \"Model explanations data setup completed\", \"Choosing LightGBM as the surrogate model for explanations\", \"Computation of engineered features started\", \"Computation of engineered features completed\", \"Computation of raw features started\", \"Computation of raw features completed\", \"Best run model explanations completed\"]}]}, {\"name\": \"recall_score_weighted\", \"run_id\": \"AutoML_025f2b39-b2d8-4bca-bfe4-eaabcae87cef\", \"categories\": [0], \"series\": [{\"data\": [0.8118191667487442]}]}, {\"name\": \"recall_score_micro\", \"run_id\": \"AutoML_025f2b39-b2d8-4bca-bfe4-eaabcae87cef\", \"categories\": [0], \"series\": [{\"data\": [0.8118191667487442]}]}, {\"name\": \"accuracy\", \"run_id\": \"AutoML_025f2b39-b2d8-4bca-bfe4-eaabcae87cef\", \"categories\": [0], \"series\": [{\"data\": [0.8118191667487442]}]}, {\"name\": \"average_precision_score_weighted\", \"run_id\": \"AutoML_025f2b39-b2d8-4bca-bfe4-eaabcae87cef\", \"categories\": [0], \"series\": [{\"data\": [0.8148108018252078]}]}, {\"name\": \"weighted_accuracy\", \"run_id\": \"AutoML_025f2b39-b2d8-4bca-bfe4-eaabcae87cef\", \"categories\": [0], \"series\": [{\"data\": [0.853760604280863]}]}, {\"name\": \"f1_score_weighted\", \"run_id\": \"AutoML_025f2b39-b2d8-4bca-bfe4-eaabcae87cef\", \"categories\": [0], \"series\": [{\"data\": [0.8010558782992702]}]}, {\"name\": \"recall_score_macro\", \"run_id\": \"AutoML_025f2b39-b2d8-4bca-bfe4-eaabcae87cef\", \"categories\": [0], \"series\": [{\"data\": [0.7616429029533232]}]}, {\"name\": \"average_precision_score_micro\", \"run_id\": \"AutoML_025f2b39-b2d8-4bca-bfe4-eaabcae87cef\", \"categories\": [0], \"series\": [{\"data\": [0.8343398030602316]}]}, {\"name\": \"AUC_micro\", \"run_id\": \"AutoML_025f2b39-b2d8-4bca-bfe4-eaabcae87cef\", \"categories\": [0], \"series\": [{\"data\": [0.8547343743744447]}]}, {\"name\": \"precision_score_micro\", \"run_id\": \"AutoML_025f2b39-b2d8-4bca-bfe4-eaabcae87cef\", \"categories\": [0], \"series\": [{\"data\": [0.8118191667487442]}]}, {\"name\": \"precision_score_weighted\", \"run_id\": \"AutoML_025f2b39-b2d8-4bca-bfe4-eaabcae87cef\", \"categories\": [0], \"series\": [{\"data\": [0.8229100567400488]}]}, {\"name\": \"AUC_weighted\", \"run_id\": \"AutoML_025f2b39-b2d8-4bca-bfe4-eaabcae87cef\", \"categories\": [0], \"series\": [{\"data\": [0.8137601482949268]}]}, {\"name\": \"average_precision_score_macro\", \"run_id\": \"AutoML_025f2b39-b2d8-4bca-bfe4-eaabcae87cef\", \"categories\": [0], \"series\": [{\"data\": [0.8027388238756943]}]}, {\"name\": \"precision_score_macro\", \"run_id\": \"AutoML_025f2b39-b2d8-4bca-bfe4-eaabcae87cef\", \"categories\": [0], \"series\": [{\"data\": [0.8308177595072689]}]}, {\"name\": \"f1_score_micro\", \"run_id\": \"AutoML_025f2b39-b2d8-4bca-bfe4-eaabcae87cef\", \"categories\": [0], \"series\": [{\"data\": [0.8118191667487442]}]}, {\"name\": \"norm_macro_recall\", \"run_id\": \"AutoML_025f2b39-b2d8-4bca-bfe4-eaabcae87cef\", \"categories\": [0], \"series\": [{\"data\": [0.5232858059066462]}]}, {\"name\": \"log_loss\", \"run_id\": \"AutoML_025f2b39-b2d8-4bca-bfe4-eaabcae87cef\", \"categories\": [0], \"series\": [{\"data\": [0.4744824798082622]}]}, {\"name\": \"matthews_correlation\", \"run_id\": \"AutoML_025f2b39-b2d8-4bca-bfe4-eaabcae87cef\", \"categories\": [0], \"series\": [{\"data\": [0.5883589863304294]}]}, {\"name\": \"balanced_accuracy\", \"run_id\": \"AutoML_025f2b39-b2d8-4bca-bfe4-eaabcae87cef\", \"categories\": [0], \"series\": [{\"data\": [0.7616429029533232]}]}, {\"name\": \"f1_score_macro\", \"run_id\": \"AutoML_025f2b39-b2d8-4bca-bfe4-eaabcae87cef\", \"categories\": [0], \"series\": [{\"data\": [0.7768949384170218]}]}, {\"name\": \"AUC_macro\", \"run_id\": \"AutoML_025f2b39-b2d8-4bca-bfe4-eaabcae87cef\", \"categories\": [0], \"series\": [{\"data\": [0.8137601482949268]}]}], \"run_logs\": \"\\nRun is completed.\", \"graph\": {}, \"widget_settings\": {\"childWidgetDisplay\": \"popup\", \"send_telemetry\": false, \"log_level\": \"INFO\", \"sdk_version\": \"1.19.0\"}, \"loading\": false}"
     },
     "metadata": {},
     "output_type": "display_data"
    }
   ],
   "source": [
    "from azureml.widgets import RunDetails\n",
    "\n",
    "#Launch the widget to view the progress and results\n",
    "RunDetails(remote_run).show()"
   ]
  },
  {
   "cell_type": "markdown",
   "metadata": {
    "id": "T-3sVp4OrZvP"
   },
   "source": [
    "## Retrieve and save the best AutoML model"
   ]
  },
  {
   "cell_type": "code",
   "execution_count": 8,
   "metadata": {
    "gather": {
     "logged": 1598431107951
    },
    "id": "-JCgi8M7rZvP",
    "jupyter": {
     "outputs_hidden": false,
     "source_hidden": false
    },
    "nteract": {
     "transient": {
      "deleting": false
     }
    },
    "outputId": "244e4e70-c6db-4a71-f6b6-e71a65a231f1"
   },
   "outputs": [
    {
     "name": "stderr",
     "output_type": "stream",
     "text": [
      "WARNING:root:The version of the SDK does not match the version the model was trained on.\n",
      "WARNING:root:The consistency in the result may not be guaranteed.\n",
      "WARNING:root:Package:azureml-automl-core, training version:1.20.0, current version:1.19.0\n",
      "Package:azureml-automl-runtime, training version:1.20.0, current version:1.19.0\n",
      "Package:azureml-core, training version:1.20.0, current version:1.19.0\n",
      "Package:azureml-dataprep, training version:2.7.2, current version:2.6.1\n",
      "Package:azureml-dataprep-native, training version:27.0.0, current version:26.0.0\n",
      "Package:azureml-dataprep-rslex, training version:1.5.0, current version:1.4.0\n",
      "Package:azureml-dataset-runtime, training version:1.20.0, current version:1.19.0.post1\n",
      "Package:azureml-defaults, training version:1.20.0, current version:1.19.0\n",
      "Package:azureml-interpret, training version:1.20.0, current version:1.19.0\n",
      "Package:azureml-pipeline-core, training version:1.20.0, current version:1.19.0\n",
      "Package:azureml-telemetry, training version:1.20.0, current version:1.19.0\n",
      "Package:azureml-train-automl-client, training version:1.20.0, current version:1.19.0\n",
      "Package:azureml-train-automl-runtime, training version:1.20.0, current version:1.19.0\n",
      "WARNING:root:Please ensure the version of your local conda dependencies match the version on which your model was trained in order to properly retrieve your model.\n"
     ]
    },
    {
     "name": "stdout",
     "output_type": "stream",
     "text": [
      "Best run Id:  AutoML_025f2b39-b2d8-4bca-bfe4-eaabcae87cef_26\n",
      "Accuracy:  0.8118191667487442\n",
      "Other details: \n",
      "Fitted model: Pipeline(memory=None,\n",
      "         steps=[('datatransformer',\n",
      "                 DataTransformer(enable_dnn=None, enable_feature_sweeping=None,\n",
      "                                 feature_sweeping_config=None,\n",
      "                                 feature_sweeping_timeout=None,\n",
      "                                 featurization_config=None, force_text_dnn=None,\n",
      "                                 is_cross_validation=None,\n",
      "                                 is_onnx_compatible=None, logger=None,\n",
      "                                 observer=None, task=None, working_dir=None)),\n",
      "                ('MaxAbsScaler', MaxAbsScaler(copy...\n",
      "                                    learning_rate=0.08947473684210526,\n",
      "                                    max_bin=310, max_depth=3,\n",
      "                                    min_child_samples=25, min_child_weight=6,\n",
      "                                    min_split_gain=0.47368421052631576,\n",
      "                                    n_estimators=25, n_jobs=1, num_leaves=131,\n",
      "                                    objective=None, random_state=None,\n",
      "                                    reg_alpha=0.7894736842105263,\n",
      "                                    reg_lambda=0.7368421052631579, silent=True,\n",
      "                                    subsample=0.8910526315789474,\n",
      "                                    subsample_for_bin=200000, subsample_freq=0,\n",
      "                                    verbose=-10))],\n",
      "         verbose=False)\n"
     ]
    }
   ],
   "source": [
    "#Retrieving the best model\n",
    "best_run_AutoML, best_model_AutoML = remote_run.get_output()\n",
    "best_run_metrics_AutoML = best_run_AutoML.get_metrics()\n",
    "print(\"Best run Id: \",best_run_AutoML.id)\n",
    "print(\"Accuracy: \", best_run_metrics_AutoML['accuracy'])\n",
    "print(\"Other details: \")\n",
    "print(\"Fitted model:\",best_model_AutoML)"
   ]
  },
  {
   "cell_type": "code",
   "execution_count": 9,
   "metadata": {
    "id": "aikkxF5TrZvQ",
    "outputId": "f30a174f-0f61-44bd-cd4d-d0b111fd84a9"
   },
   "outputs": [
    {
     "data": {
      "text/plain": [
       "{'_aml_system_azureml.automlComponent': 'AutoML',\n",
       " '_aml_system_ComputeTargetStatus': '{\"AllocationState\":\"steady\",\"PreparingNodeCount\":0,\"RunningNodeCount\":0,\"CurrentNodeCount\":1}',\n",
       " '_aml_system_automl_is_child_run_end_telemetry_event_logged': 'True'}"
      ]
     },
     "execution_count": 9,
     "metadata": {},
     "output_type": "execute_result"
    }
   ],
   "source": [
    "best_run_AutoML.get_tags()"
   ]
  },
  {
   "cell_type": "code",
   "execution_count": 10,
   "metadata": {
    "gather": {
     "logged": 1598431121770
    },
    "id": "RZBc-C18rZvR",
    "jupyter": {
     "outputs_hidden": false,
     "source_hidden": false
    },
    "nteract": {
     "transient": {
      "deleting": false
     }
    },
    "outputId": "008007b2-1244-424e-8873-e29af6e22a9e"
   },
   "outputs": [
    {
     "name": "stdout",
     "output_type": "stream",
     "text": [
      "Model saved successfully\n"
     ]
    }
   ],
   "source": [
    "import joblib\n",
    "from azureml.core.model import Model\n",
    "\n",
    "#Save the best model\n",
    "os.makedirs('results', exist_ok=True)\n",
    "joblib.dump(best_model_AutoML, filename=\"results/automl_model.pkl\")\n",
    "model = remote_run.register_model(model_name=best_run_AutoML.properties['model_name'], description='Best AutoML model')\n",
    "print(\"Model saved successfully\")"
   ]
  },
  {
   "cell_type": "markdown",
   "metadata": {
    "id": "kV5Aow3XVy1i"
   },
   "source": [
    "## Retrieve and save the best ONNX model"
   ]
  },
  {
   "cell_type": "code",
   "execution_count": 11,
   "metadata": {
    "id": "bteU9baLrZvS"
   },
   "outputs": [],
   "source": [
    "from azureml.automl.runtime.onnx_convert import OnnxConverter\n",
    "\n",
    "#Retrieve and save the best model\n",
    "best_run, onnx_mdl = remote_run.get_output(return_onnx_model=True)\n",
    "onnx_fl_path = \"results/best_model.onnx\"\n",
    "OnnxConverter.save_onnx_model(onnx_mdl, onnx_fl_path)"
   ]
  },
  {
   "cell_type": "markdown",
   "metadata": {
    "id": "JrpOTtjwWRIo"
   },
   "source": [
    "## Predict with the ONNX model"
   ]
  },
  {
   "cell_type": "code",
   "execution_count": 12,
   "metadata": {
    "id": "cipCoDJkrZvS",
    "outputId": "15c390b1-3ce4-429b-e0cb-3ef37a906bb8"
   },
   "outputs": [
    {
     "name": "stdout",
     "output_type": "stream",
     "text": [
      "[0 0 0 1 0 0 1 0 0 0 0 0 0 1 0 0 0 0 0 1 0 0 0 0 0 0 0 0 0 0 1 1 1 1 0 0 0\n",
      " 0 0 0 1 1 0 0 0 0 0 0 0 0 0 0 1 1 0 0 1 0 0 0 0 0 0 1 0 1 0 0 0 0 0 0 0 0\n",
      " 0 0 0 0 1 0 0 0 1 0 0 0 0 0 0 1 0 0 0 1 0 1 0 0 0 0 1 1 1 1 0 0 1 0 0 1 0\n",
      " 1 1 1 1 1 1 0 0 0 0 0 0 0 1 0 0 1 1 1 0 1 0 1 0 0 0 1 0 0 0 1 1 1 0 0 1 1\n",
      " 0 0 1 1 0 1 0 0 0 0 0 0 0 0 0 1 0 1 0 0 0 0 0 1 1 0 1 0 1 1 0]\n",
      "[[0.8456826  0.15431735]\n",
      " [0.71387124 0.28612882]\n",
      " [0.83192855 0.16807145]\n",
      " [0.08670013 0.91329986]\n",
      " [0.6583085  0.34169152]\n",
      " [0.7922295  0.20777056]\n",
      " [0.08389928 0.9161007 ]\n",
      " [0.87143546 0.12856457]\n",
      " [0.7731743  0.22682568]\n",
      " [0.73973024 0.2602697 ]\n",
      " [0.83730286 0.16269714]\n",
      " [0.8089965  0.19100347]\n",
      " [0.641677   0.35832292]\n",
      " [0.08692507 0.913075  ]\n",
      " [0.79855335 0.20144665]\n",
      " [0.84633476 0.15366527]\n",
      " [0.7051767  0.2948233 ]\n",
      " [0.895187   0.10481305]\n",
      " [0.8739994  0.1260006 ]\n",
      " [0.39074755 0.60925245]\n",
      " [0.6307692  0.36923084]\n",
      " [0.59139484 0.40860516]\n",
      " [0.75056654 0.24943347]\n",
      " [0.8027035  0.19729656]\n",
      " [0.77863497 0.22136502]\n",
      " [0.64212483 0.35787514]\n",
      " [0.7304748  0.2695251 ]\n",
      " [0.92004144 0.07995849]\n",
      " [0.62135035 0.3786497 ]\n",
      " [0.5191834  0.4808166 ]\n",
      " [0.0912509  0.9087491 ]\n",
      " [0.07821213 0.9217879 ]\n",
      " [0.19009301 0.80990696]\n",
      " [0.18766077 0.8123392 ]\n",
      " [0.88651067 0.1134894 ]\n",
      " [0.78450906 0.21549094]\n",
      " [0.7381972  0.26180282]\n",
      " [0.8413844  0.15861553]\n",
      " [0.6851892  0.3148108 ]\n",
      " [0.6331529  0.3668471 ]\n",
      " [0.38063672 0.6193633 ]\n",
      " [0.18187542 0.8181246 ]\n",
      " [0.7428776  0.25712234]\n",
      " [0.6924771  0.3075229 ]\n",
      " [0.72545296 0.274547  ]\n",
      " [0.895187   0.10481305]\n",
      " [0.8899438  0.11005626]\n",
      " [0.8850527  0.11494734]\n",
      " [0.8194073  0.18059269]\n",
      " [0.75282943 0.2471705 ]\n",
      " [0.894802   0.10519801]\n",
      " [0.8310801  0.16892003]\n",
      " [0.0912509  0.9087491 ]\n",
      " [0.13263485 0.8673652 ]\n",
      " [0.8547242  0.14527577]\n",
      " [0.85071135 0.14928864]\n",
      " [0.37565812 0.62434185]\n",
      " [0.8685503  0.13144971]\n",
      " [0.84707296 0.15292695]\n",
      " [0.7644723  0.23552766]\n",
      " [0.7278495  0.27215052]\n",
      " [0.6972667  0.30273327]\n",
      " [0.70237464 0.2976254 ]\n",
      " [0.15247816 0.8475218 ]\n",
      " [0.85753024 0.14246984]\n",
      " [0.11079655 0.88920337]\n",
      " [0.87235355 0.12764645]\n",
      " [0.8575293  0.14247075]\n",
      " [0.5948706  0.40512934]\n",
      " [0.7709858  0.22901416]\n",
      " [0.7907596  0.20924039]\n",
      " [0.85995626 0.14004369]\n",
      " [0.7245456  0.27545443]\n",
      " [0.7606069  0.23939314]\n",
      " [0.6623291  0.33767095]\n",
      " [0.8852371  0.1147629 ]\n",
      " [0.58661366 0.4133864 ]\n",
      " [0.72865665 0.27134332]\n",
      " [0.15914764 0.8408524 ]\n",
      " [0.8321276  0.16787247]\n",
      " [0.8676135  0.13238648]\n",
      " [0.7071022  0.2928978 ]\n",
      " [0.14779499 0.8522051 ]\n",
      " [0.86750096 0.13249907]\n",
      " [0.6890171  0.31098294]\n",
      " [0.8004743  0.19952571]\n",
      " [0.8917489  0.10825117]\n",
      " [0.9007107  0.09928931]\n",
      " [0.82068235 0.17931762]\n",
      " [0.09483261 0.9051674 ]\n",
      " [0.895187   0.10481305]\n",
      " [0.82689345 0.17310657]\n",
      " [0.5688418  0.4311582 ]\n",
      " [0.388776   0.611224  ]\n",
      " [0.6246348  0.3753652 ]\n",
      " [0.10893892 0.8910611 ]\n",
      " [0.8004386  0.19956145]\n",
      " [0.7183925  0.2816075 ]\n",
      " [0.83075273 0.16924724]\n",
      " [0.67547476 0.32452527]\n",
      " [0.45703697 0.54296297]\n",
      " [0.08673878 0.91326123]\n",
      " [0.09483261 0.9051674 ]\n",
      " [0.1342882  0.8657118 ]\n",
      " [0.7146872  0.2853127 ]\n",
      " [0.5835835  0.4164165 ]\n",
      " [0.1182889  0.8817111 ]\n",
      " [0.58086187 0.41913813]\n",
      " [0.8591536  0.14084634]\n",
      " [0.1256157  0.8743843 ]\n",
      " [0.8492134  0.15078649]\n",
      " [0.08563628 0.91436374]\n",
      " [0.13507849 0.86492145]\n",
      " [0.086483   0.913517  ]\n",
      " [0.4086474  0.5913526 ]\n",
      " [0.09681723 0.9031828 ]\n",
      " [0.37784308 0.6221569 ]\n",
      " [0.7492787  0.25072122]\n",
      " [0.83309853 0.16690147]\n",
      " [0.70837146 0.29162854]\n",
      " [0.873443   0.1265569 ]\n",
      " [0.84346074 0.15653923]\n",
      " [0.7298399  0.27016014]\n",
      " [0.79078394 0.20921609]\n",
      " [0.11221293 0.88778704]\n",
      " [0.89522874 0.10477129]\n",
      " [0.9007107  0.09928931]\n",
      " [0.3955229  0.6044771 ]\n",
      " [0.1916413  0.80835867]\n",
      " [0.13372102 0.866279  ]\n",
      " [0.77690226 0.2230978 ]\n",
      " [0.41939506 0.5806049 ]\n",
      " [0.8331196  0.16688041]\n",
      " [0.13831465 0.8616854 ]\n",
      " [0.5945407  0.40545934]\n",
      " [0.84248763 0.15751234]\n",
      " [0.74305356 0.2569465 ]\n",
      " [0.11849155 0.88150847]\n",
      " [0.85405314 0.14594689]\n",
      " [0.59862757 0.40137243]\n",
      " [0.57973975 0.42026025]\n",
      " [0.12782782 0.8721722 ]\n",
      " [0.154452   0.845548  ]\n",
      " [0.14007486 0.85992515]\n",
      " [0.8598231  0.14017686]\n",
      " [0.6116451  0.38835496]\n",
      " [0.37565818 0.62434185]\n",
      " [0.09681723 0.9031828 ]\n",
      " [0.84603864 0.15396133]\n",
      " [0.56487334 0.43512672]\n",
      " [0.41367716 0.58632284]\n",
      " [0.15247816 0.8475218 ]\n",
      " [0.82016885 0.17983112]\n",
      " [0.37566274 0.62433726]\n",
      " [0.8250564  0.17494361]\n",
      " [0.6835842  0.31641585]\n",
      " [0.6097723  0.39022762]\n",
      " [0.7493013  0.25069875]\n",
      " [0.7845725  0.21542749]\n",
      " [0.6876879  0.3123121 ]\n",
      " [0.6567091  0.34329095]\n",
      " [0.7927769  0.20722313]\n",
      " [0.65659535 0.3434047 ]\n",
      " [0.15676156 0.8432385 ]\n",
      " [0.8661903  0.13380966]\n",
      " [0.12422697 0.8757731 ]\n",
      " [0.7400886  0.25991148]\n",
      " [0.80868864 0.19131133]\n",
      " [0.826484   0.17351599]\n",
      " [0.7099549  0.29004505]\n",
      " [0.84863824 0.15136184]\n",
      " [0.10309123 0.89690876]\n",
      " [0.1256157  0.8743843 ]\n",
      " [0.6402446  0.35975537]\n",
      " [0.21952581 0.7804742 ]\n",
      " [0.69793683 0.30206317]\n",
      " [0.15076748 0.84923255]\n",
      " [0.40786543 0.59213454]\n",
      " [0.885218   0.11478195]]\n"
     ]
    }
   ],
   "source": [
    "import sys\n",
    "import json\n",
    "from azureml.automl.core.onnx_convert import OnnxConvertConstants\n",
    "from azureml.train.automl import constants\n",
    "\n",
    "if sys.version_info < OnnxConvertConstants.OnnxIncompatiblePythonVersion:\n",
    "    python_version_compatible = True\n",
    "else:\n",
    "    python_version_compatible = False\n",
    "\n",
    "import onnxruntime\n",
    "from azureml.automl.runtime.onnx_convert import OnnxInferenceHelper\n",
    "\n",
    "def get_onnx_res(run):\n",
    "    res_path = 'onnx_resource.json'\n",
    "    run.download_file(name=constants.MODEL_RESOURCE_PATH_ONNX, output_file_path=res_path)\n",
    "    with open(res_path) as f:\n",
    "        onnx_res = json.load(f)\n",
    "    return onnx_res\n",
    "\n",
    "if python_version_compatible:\n",
    "    test_df = test_data.to_pandas_dataframe()\n",
    "    mdl_bytes = onnx_mdl.SerializeToString()\n",
    "    onnx_res = get_onnx_res(best_run)\n",
    "\n",
    "    onnxrt_helper = OnnxInferenceHelper(mdl_bytes, onnx_res)\n",
    "    pred_onnx, pred_prob_onnx = onnxrt_helper.predict(test_df)\n",
    "\n",
    "    print(pred_onnx)\n",
    "    print(pred_prob_onnx)\n",
    "else:\n",
    "    print('Please use Python version 3.6 or 3.7 to run the inference helper.')"
   ]
  },
  {
   "cell_type": "markdown",
   "metadata": {
    "gather": {
     "logged": 1598431435189
    },
    "id": "pNP0EhoXrZvS",
    "jupyter": {
     "outputs_hidden": false,
     "source_hidden": false
    },
    "nteract": {
     "transient": {
      "deleting": false
     }
    }
   },
   "source": [
    "## Deploy the best model "
   ]
  },
  {
   "cell_type": "code",
   "execution_count": 20,
   "metadata": {
    "gather": {
     "logged": 1598432707604
    },
    "id": "Lbpl-hJsrZvT",
    "jupyter": {
     "outputs_hidden": false,
     "source_hidden": false
    },
    "nteract": {
     "transient": {
      "deleting": false
     }
    }
   },
   "outputs": [],
   "source": [
    "env = best_run_AutoML.get_environment()\n",
    "entry_script='score.py'\n",
    "best_run_AutoML.download_file('outputs/scoring_file_v_1_0_0.py', entry_script)"
   ]
  },
  {
   "cell_type": "code",
   "execution_count": 21,
   "metadata": {
    "id": "xXdFFTYarZvT",
    "jupyter": {
     "outputs_hidden": false,
     "source_hidden": false
    },
    "nteract": {
     "transient": {
      "deleting": false
     }
    },
    "outputId": "72bc00e7-b5d6-41c9-c3e8-14879330989c"
   },
   "outputs": [
    {
     "name": "stdout",
     "output_type": "stream",
     "text": [
      "Tips: You can try get_logs(): https://aka.ms/debugimage#dockerlog or local deployment: https://aka.ms/debugimage#debug-locally to debug if deployment takes longer than 10 minutes.\n",
      "Running...........................................\n",
      "Succeeded\n",
      "ACI service creation operation finished, operation \"Succeeded\"\n"
     ]
    }
   ],
   "source": [
    "from azureml.core.model import InferenceConfig\n",
    "from azureml.core.webservice import AciWebservice\n",
    "\n",
    "#Deploy the model as a Web Service on Azure Container Instance\n",
    "inference_config = InferenceConfig(entry_script = entry_script, environment = env)\n",
    "deployment_config = AciWebservice.deploy_configuration(cpu_cores = 1, memory_gb = 1, auth_enabled=True, enable_app_insights=True)\n",
    "service = Model.deploy(ws, 'titanic-api', [model], inference_config, deployment_config)\n",
    "service.wait_for_deployment(True)"
   ]
  },
  {
   "cell_type": "code",
   "execution_count": 22,
   "metadata": {
    "id": "LoZCSHT3rZvT",
    "outputId": "9395fb38-d896-45c5-dde4-c11d9ecaa9d0"
   },
   "outputs": [
    {
     "name": "stdout",
     "output_type": "stream",
     "text": [
      "2021-01-22T11:36:27,549761760+00:00 - iot-server/run \n",
      "2021-01-22T11:36:27,549758860+00:00 - gunicorn/run \n",
      "2021-01-22T11:36:27,550309056+00:00 - rsyslog/run \n",
      "2021-01-22T11:36:27,552448741+00:00 - nginx/run \n",
      "/usr/sbin/nginx: /azureml-envs/azureml_23df5d07c5e8388dac3ecfdf573dafb1/lib/libcrypto.so.1.0.0: no version information available (required by /usr/sbin/nginx)\n",
      "/usr/sbin/nginx: /azureml-envs/azureml_23df5d07c5e8388dac3ecfdf573dafb1/lib/libcrypto.so.1.0.0: no version information available (required by /usr/sbin/nginx)\n",
      "/usr/sbin/nginx: /azureml-envs/azureml_23df5d07c5e8388dac3ecfdf573dafb1/lib/libssl.so.1.0.0: no version information available (required by /usr/sbin/nginx)\n",
      "/usr/sbin/nginx: /azureml-envs/azureml_23df5d07c5e8388dac3ecfdf573dafb1/lib/libssl.so.1.0.0: no version information available (required by /usr/sbin/nginx)\n",
      "/usr/sbin/nginx: /azureml-envs/azureml_23df5d07c5e8388dac3ecfdf573dafb1/lib/libssl.so.1.0.0: no version information available (required by /usr/sbin/nginx)\n",
      "rsyslogd: /azureml-envs/azureml_23df5d07c5e8388dac3ecfdf573dafb1/lib/libuuid.so.1: no version information available (required by rsyslogd)\n",
      "EdgeHubConnectionString and IOTEDGE_IOTHUBHOSTNAME are not set. Exiting...\n",
      "2021-01-22T11:36:27,743556451+00:00 - iot-server/finish 1 0\n",
      "2021-01-22T11:36:27,745734135+00:00 - Exit code 1 is normal. Not restarting iot-server.\n",
      "Starting gunicorn 19.9.0\n",
      "Listening at: http://127.0.0.1:31311 (14)\n",
      "Using worker: sync\n",
      "worker timeout is set to 300\n",
      "Booting worker with pid: 42\n",
      "SPARK_HOME not set. Skipping PySpark Initialization.\n",
      "Generating new fontManager, this may take some time...\n",
      "Initializing logger\n",
      "2021-01-22 11:36:29,336 | root | INFO | Starting up app insights client\n",
      "2021-01-22 11:36:29,337 | root | INFO | Starting up request id generator\n",
      "2021-01-22 11:36:29,337 | root | INFO | Starting up app insight hooks\n",
      "2021-01-22 11:36:29,337 | root | INFO | Invoking user's init function\n",
      "2021-01-22 11:36:33,085 | azureml.core | WARNING | Failure while loading azureml_run_type_providers. Failed to load entrypoint automl = azureml.train.automl.run:AutoMLRun._from_run_dto with exception cannot import name 'RunType'.\n",
      "Failure while loading azureml_run_type_providers. Failed to load entrypoint automl = azureml.train.automl.run:AutoMLRun._from_run_dto with exception cannot import name 'RunType'.\n",
      "2021-01-22 11:36:33,144 | root | INFO | Users's init has completed successfully\n",
      "2021-01-22 11:36:33,149 | root | INFO | Skipping middleware: dbg_model_info as it's not enabled.\n",
      "2021-01-22 11:36:33,149 | root | INFO | Skipping middleware: dbg_resource_usage as it's not enabled.\n",
      "2021-01-22 11:36:33,151 | root | INFO | Scoring timeout is found from os.environ: 60000 ms\n",
      "2021-01-22 11:36:38,049 | root | INFO | 200\n",
      "127.0.0.1 - - [22/Jan/2021:11:36:38 +0000] \"GET /swagger.json HTTP/1.0\" 200 2934 \"-\" \"Go-http-client/1.1\"\n",
      "2021-01-22 11:36:41,834 | root | INFO | 200\n",
      "127.0.0.1 - - [22/Jan/2021:11:36:41 +0000] \"GET /swagger.json HTTP/1.0\" 200 2934 \"-\" \"Go-http-client/1.1\"\n",
      "\n"
     ]
    }
   ],
   "source": [
    "#Gets logs from a deployed web service.\n",
    "print(service.get_logs())"
   ]
  },
  {
   "cell_type": "code",
   "execution_count": 16,
   "metadata": {
    "id": "wk2O6GNmrZvU",
    "outputId": "636c3432-0b6f-4c01-b504-4ecb00b24e19"
   },
   "outputs": [
    {
     "name": "stdout",
     "output_type": "stream",
     "text": [
      "Deployment state: Healthy\n",
      "Scoring URI: http://36c3231c-988a-4252-8ab3-8798c041165e.southcentralus.azurecontainer.io/score\n",
      "Authetication Key: RpFLxIGW4uMcLZlKU0iy4JcOa04YVd8c\n",
      "Swagger URI: http://36c3231c-988a-4252-8ab3-8798c041165e.southcentralus.azurecontainer.io/swagger.json\n"
     ]
    }
   ],
   "source": [
    "print(\"Deployment state: \" + service.state)\n",
    "print(\"Scoring URI: \" + service.scoring_uri)\n",
    "print(\"Authetication Key: \" + service.get_keys()[0])\n",
    "print(\"Swagger URI: \" + service.swagger_uri)"
   ]
  },
  {
   "cell_type": "code",
   "execution_count": 18,
   "metadata": {
    "id": "6jfj201orZvU",
    "outputId": "bb5a5bef-f2f3-4ebb-b01f-f4c08c0b0bb7"
   },
   "outputs": [
    {
     "name": "stdout",
     "output_type": "stream",
     "text": [
      "{\"result\": [0, 1]}\n"
     ]
    }
   ],
   "source": [
    "#Consume model endpoint\n",
    "%run endpoint.py"
   ]
  },
  {
   "cell_type": "code",
   "execution_count": 19,
   "metadata": {
    "id": "ZQRQtBK4rZvU"
   },
   "outputs": [],
   "source": [
    "#Delete the web service\n",
    "service.delete()"
   ]
  }
 ],
 "metadata": {
  "colab": {
   "name": "AutoML.ipynb",
   "provenance": []
  },
  "kernel_info": {
   "name": "python3-azureml"
  },
  "kernelspec": {
   "display_name": "Python 3",
   "language": "python",
   "name": "python3"
  },
  "language_info": {
   "codemirror_mode": {
    "name": "ipython",
    "version": 3
   },
   "file_extension": ".py",
   "mimetype": "text/x-python",
   "name": "python",
   "nbconvert_exporter": "python",
   "pygments_lexer": "ipython3",
   "version": "3.6.9"
  },
  "nteract": {
   "version": "nteract-front-end@1.0.0"
  }
 },
 "nbformat": 4,
 "nbformat_minor": 1
}
